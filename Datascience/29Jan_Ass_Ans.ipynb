{
 "cells": [
  {
   "cell_type": "code",
   "execution_count": 19,
   "id": "9ea60e01",
   "metadata": {},
   "outputs": [],
   "source": [
    "# 1) Who developed PYTHON programming language"
   ]
  },
  {
   "cell_type": "markdown",
   "id": "b3a3543e",
   "metadata": {},
   "source": [
    "Guido van Rossum"
   ]
  },
  {
   "cell_type": "code",
   "execution_count": 20,
   "id": "64f768d1",
   "metadata": {},
   "outputs": [],
   "source": [
    "# 2) which type of programming does python support"
   ]
  },
  {
   "cell_type": "markdown",
   "id": "d4dffab2",
   "metadata": {},
   "source": [
    "Python is a multi-paradigm programming language, which means that it supports several programming paradigms, including:\n",
    "\n",
    "1)Object-Oriented Programming (OOP) - Python provides support for OOP concepts such as classes, objects, inheritance, encapsulation, and polymorphism.\n",
    "\n",
    "2)Procedural Programming - Python provides support for procedural programming through functions and modules, making it possible to write programs in a step-by-step manner.\n",
    "\n",
    "3)Functional Programming - Python provides support for functional programming through features such as anonymous functions (lambda expressions), first-class functions, and immutability, making it possible to write programs using a functional programming style.\n",
    "\n",
    "4)Scripting - Python is often used as a scripting language, allowing users to automate tasks, write small programs, and add functionality to existing applications.\n",
    "\n",
    "5)Dynamic Typing - Python uses dynamic typing, which means that variables do not have to be declared with a specific type and can change type during the execution of the program."
   ]
  },
  {
   "cell_type": "code",
   "execution_count": 21,
   "id": "52b6448b",
   "metadata": {},
   "outputs": [],
   "source": [
    "# 3) is python case sensitive when dealing with identifiers"
   ]
  },
  {
   "cell_type": "markdown",
   "id": "3c36cf08",
   "metadata": {},
   "source": [
    "Yes, Python is a case-sensitive language, i.e., it treats uppercase and lowercase characters differently. This applies to identifiers too. You must avoid using the same name with different cases while naming identifiers."
   ]
  },
  {
   "cell_type": "code",
   "execution_count": 22,
   "id": "57648e9d",
   "metadata": {},
   "outputs": [],
   "source": [
    "# 4) what is correct extension of python file"
   ]
  },
  {
   "cell_type": "markdown",
   "id": "41580e1f",
   "metadata": {},
   "source": [
    "Python is a widely used programming or coding language used for different purposes. The extensions for Python files are - .py, .pyi, .pyc, .pyd, .pyo, .pyw, and .pyz."
   ]
  },
  {
   "cell_type": "code",
   "execution_count": 23,
   "id": "dbfe9dec",
   "metadata": {},
   "outputs": [],
   "source": [
    "# 5) Is Python code compiled or interpreted"
   ]
  },
  {
   "cell_type": "markdown",
   "id": "8041efe1",
   "metadata": {},
   "source": [
    "Python is both compiled as well as an interpreted language. This means when we run a python code, it is first compiled and then interpreted line by line. The compilation part is mostly hidden from the user. While running the code, Python generates a byte code internally, this byte code is then converted using a python virtual machine (p.v.m) to generate the output"
   ]
  },
  {
   "cell_type": "code",
   "execution_count": 24,
   "id": "05b6c81c",
   "metadata": {},
   "outputs": [],
   "source": [
    "# 6) name a few blocks of code to define in python programming language"
   ]
  },
  {
   "cell_type": "markdown",
   "id": "08fd6aee",
   "metadata": {},
   "source": [
    "In Python, the building blocks of code include:\n",
    "\n",
    "-->Variables: to store values, such as numbers, strings, or lists.\n",
    "\n",
    "-->Functions: to encapsulate a piece of code and reuse it later.\n",
    "\n",
    "-->Conditional statements: to control the flow of the program based on certain conditions.\n",
    "\n",
    "-->Loops: to repeat a block of code multiple times.\n",
    "\n",
    "-->Classes and objects: to define custom data types and create objects of that type.\n"
   ]
  },
  {
   "cell_type": "code",
   "execution_count": 25,
   "id": "1283599d",
   "metadata": {},
   "outputs": [],
   "source": [
    "# 7) state character to give single line comment in python"
   ]
  },
  {
   "cell_type": "markdown",
   "id": "0fbf7b15",
   "metadata": {},
   "source": [
    "Comments in Python are identified with a hash symbol, #, and extend to the end of the line."
   ]
  },
  {
   "cell_type": "code",
   "execution_count": 26,
   "id": "b30c63ad",
   "metadata": {},
   "outputs": [],
   "source": [
    "# 8)find functions that can help to find versions of python"
   ]
  },
  {
   "cell_type": "markdown",
   "id": "54b5f8e1",
   "metadata": {},
   "source": [
    "1) python --version \n",
    "2)  sys.version                     #import sys\n",
    "3) sys.version_info                 #import sys\n",
    "4) platform.python_version()        #import platform\n",
    "5) platform.python_version_tuple()  #import platform"
   ]
  },
  {
   "cell_type": "code",
   "execution_count": 27,
   "id": "b14eea6d",
   "metadata": {},
   "outputs": [],
   "source": [
    "# 9) Python support creation of anonymous function using which construct?"
   ]
  },
  {
   "cell_type": "markdown",
   "id": "01d13a11",
   "metadata": {},
   "source": [
    "Python supports the creation of anonymous functions (i.e. functions that are not bound to a name) at runtime, using a construct called lambda."
   ]
  },
  {
   "cell_type": "code",
   "execution_count": 28,
   "id": "3dd35714",
   "metadata": {},
   "outputs": [],
   "source": [
    "# 10)what does pip stand for python?"
   ]
  },
  {
   "cell_type": "markdown",
   "id": "626fd5e1",
   "metadata": {},
   "source": [
    "Pip is one of the most famous and widely used package management system to install and manage software packages written in Python and found in Python Package Index (PyPI). Pip is a recursive acronym that can stand for either \"Pip Installs Packages\" or \"Pip Installs Python\". Alternatively, pip stands for \"preferred installer program\"."
   ]
  },
  {
   "cell_type": "code",
   "execution_count": 29,
   "id": "61004aab",
   "metadata": {},
   "outputs": [],
   "source": [
    "# 11) Mention few built in functions in python"
   ]
  },
  {
   "cell_type": "markdown",
   "id": "bf5d7029",
   "metadata": {},
   "source": [
    "Here are a few built-in functions in Python: \n",
    "\n",
    "print() - used to print output to the console.\n",
    "\n",
    "len() - used to get the length of a sequence, such as a string, list, or tuple.\n",
    "\n",
    "int() - used to convert a value to an integer.\n",
    "\n",
    "float() - used to convert a value to a floating-point number.\n",
    "\n",
    "str() - used to convert a value to a string.\n",
    "\n"
   ]
  },
  {
   "cell_type": "code",
   "execution_count": 30,
   "id": "3c230e1e",
   "metadata": {},
   "outputs": [],
   "source": [
    "# 12) maximum possible length of an identifier in python"
   ]
  },
  {
   "cell_type": "markdown",
   "id": "f3c2239b",
   "metadata": {},
   "source": [
    "There is no specific maximum length for an identifier in Python, but in practice, the maximum length of an identifier is limited by the amount of memory available on the system. An identifier in Python can be any combination of letters, numbers, and underscores, and it can be as long as needed, as long as it does not exceed the amount of available memory.\n",
    "\n",
    "It is generally recommended to keep identifiers short and descriptive, as this makes the code easier to read and maintain. In practice, most identifiers in Python are kept to a length of 1-79 characters, to conform with PEP 8 style guide recommendations and to make it easier to work with code editors and other tools."
   ]
  },
  {
   "cell_type": "code",
   "execution_count": 31,
   "id": "d5b3872c",
   "metadata": {},
   "outputs": [],
   "source": [
    "# 13) benefits of using python"
   ]
  },
  {
   "cell_type": "markdown",
   "id": "3cd7e6b3",
   "metadata": {},
   "source": [
    "There are several benefits to using Python, including:\n",
    "\n",
    "Easy to Learn and Use: Python has a simple and intuitive syntax, making it easy to learn and use for beginners and experienced programmers alike.\n",
    "\n",
    "High-Level Language: Python is a high-level language, which means it abstracts away many of the details of low-level programming, making it easier to focus on the problem at hand.\n",
    "\n",
    "Large Standard Library: Python comes with a large standard library that includes modules for tasks such as connecting to the internet, reading and writing files, and working with data.\n",
    "\n",
    "Versatile: Python can be used for a wide range of applications, including web development, scientific computing, data analysis, artificial intelligence, and more.\n",
    "\n",
    "Strong Community: Python has a large and active community of developers and users, making it easy to find help and resources online.\n",
    "\n",
    "Cross-Platform Compatibility: Python code can run on any platform, including Windows, macOS, and Linux, making it an ideal choice for cross-platform development.\n",
    "\n",
    "Dynamic Typing: Python uses dynamic typing, which means that data types are determined at runtime, making it easier to write flexible and reusable code.\n",
    "\n",
    "Interpreter: Python is an interpreted language, which means that it can be executed line by line, making it easier to debug and test code.\n",
    "\n",
    "Overall, Python's ease of use, versatility, and large community make it a popular choice for a wide range of applications and projects."
   ]
  },
  {
   "cell_type": "code",
   "execution_count": 32,
   "id": "7107799d",
   "metadata": {},
   "outputs": [],
   "source": [
    "# 14) Memory management in Python "
   ]
  },
  {
   "cell_type": "markdown",
   "id": "6765af4b",
   "metadata": {},
   "source": [
    "In Python, memory management is done automatically through a process called \"garbage collection.\" The Python interpreter keeps track of all objects in memory and periodically frees the memory occupied by objects that are no longer in use.\n",
    "\n",
    "The memory manager in Python uses a reference counting mechanism to keep track of objects in memory. When an object is no longer referenced by any part of the program, the memory manager automatically frees the memory occupied by that object.\n",
    "\n",
    "In addition to reference counting, Python also uses cyclic garbage collection, which is a mechanism that detects objects that are involved in reference cycles and frees the memory occupied by those objects.\n",
    "\n",
    "Python also provides several ways to explicitly manage memory, such as the del statement and the gc module. These tools allow the programmer to control the memory management process and can be useful in advanced applications.\n",
    "\n",
    "Overall, Python's automatic memory management makes it a convenient and efficient language for many tasks, as it frees the programmer from the need to manually manage memory allocation and deallocation.\n",
    "\n",
    "\n",
    "\n",
    "\n"
   ]
  },
  {
   "cell_type": "code",
   "execution_count": 33,
   "id": "d75ab027",
   "metadata": {},
   "outputs": [],
   "source": [
    "# 15)how to install python on windows and set path variable?\n"
   ]
  },
  {
   "cell_type": "markdown",
   "id": "eabc2069",
   "metadata": {},
   "source": [
    "1)Download the latest version of Python from the official website: https://www.python.org/downloads/windows/\n",
    "\n",
    "2)Run the Python installer by double-clicking on the downloaded file.\n",
    "\n",
    "3)During the installation process, make sure to check the option to \"Add Python 3.x to PATH\" or \"Add Python to environment variables.\"\n",
    "\n",
    "4)Complete the installation process.\n",
    "\n",
    "5)Open the Command Prompt and type python. If you see the Python prompt, it means that Python has been installed and the path variable has been set correctly."
   ]
  },
  {
   "cell_type": "code",
   "execution_count": null,
   "id": "28455b31",
   "metadata": {},
   "outputs": [],
   "source": []
  }
 ],
 "metadata": {
  "kernelspec": {
   "display_name": "Python 3 (ipykernel)",
   "language": "python",
   "name": "python3"
  },
  "language_info": {
   "codemirror_mode": {
    "name": "ipython",
    "version": 3
   },
   "file_extension": ".py",
   "mimetype": "text/x-python",
   "name": "python",
   "nbconvert_exporter": "python",
   "pygments_lexer": "ipython3",
   "version": "3.10.1"
  }
 },
 "nbformat": 4,
 "nbformat_minor": 5
}
