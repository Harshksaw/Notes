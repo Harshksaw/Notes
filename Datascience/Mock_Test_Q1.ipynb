{
  "nbformat": 4,
  "nbformat_minor": 0,
  "metadata": {
    "colab": {
      "provenance": [],
      "toc_visible": true
    },
    "kernelspec": {
      "name": "python3",
      "display_name": "Python 3"
    },
    "language_info": {
      "name": "python"
    }
  },
  "cells": [
    {
      "cell_type": "code",
      "execution_count": 10,
      "metadata": {
        "id": "B4yWqQdSoN9O"
      },
      "outputs": [],
      "source": [
        "nums = [0,1,0,3,12]"
      ]
    },
    {
      "cell_type": "code",
      "source": [
        "output=[]\n",
        "for i in range(len(nums)):\n",
        "  if nums[i]!=0:\n",
        "    output.append(nums[i])\n",
        "\n",
        "for i in range(len(nums)):\n",
        "  if nums[i]==0:\n",
        "    output.append(nums[i])\n",
        "\n",
        "print('output =', output)"
      ],
      "metadata": {
        "colab": {
          "base_uri": "https://localhost:8080/"
        },
        "id": "JSb70VgMoYGg",
        "outputId": "0a159873-2665-4d8d-8855-7f779329779a"
      },
      "execution_count": 12,
      "outputs": [
        {
          "output_type": "stream",
          "name": "stdout",
          "text": [
            "output = [1, 3, 12, 0, 0]\n"
          ]
        }
      ]
    },
    {
      "cell_type": "code",
      "source": [
        "# if we change the value of nums\n",
        "nums=[0]"
      ],
      "metadata": {
        "id": "RONk-bhtou7q"
      },
      "execution_count": 14,
      "outputs": []
    },
    {
      "cell_type": "code",
      "source": [
        "output=[]\n",
        "for i in range(len(nums)):\n",
        "  if nums[i]!=0:\n",
        "    output.append(nums[i])\n",
        "\n",
        "for i in range(len(nums)):\n",
        "  if nums[i]==0:\n",
        "    output.append(nums[i])\n",
        "\n",
        "print('output =', output)"
      ],
      "metadata": {
        "colab": {
          "base_uri": "https://localhost:8080/"
        },
        "id": "oPJ0OIvTo27t",
        "outputId": "c100dc4c-7da7-4f21-b7b3-2cb0d13c0d82"
      },
      "execution_count": 15,
      "outputs": [
        {
          "output_type": "stream",
          "name": "stdout",
          "text": [
            "output = [0]\n"
          ]
        }
      ]
    },
    {
      "cell_type": "code",
      "source": [],
      "metadata": {
        "id": "mSpqK_jgpNnv"
      },
      "execution_count": null,
      "outputs": []
    }
  ]
}