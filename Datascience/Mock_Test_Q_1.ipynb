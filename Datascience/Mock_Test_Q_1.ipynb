{
  "nbformat": 4,
  "nbformat_minor": 0,
  "metadata": {
    "colab": {
      "provenance": [],
      "toc_visible": true
    },
    "kernelspec": {
      "name": "python3",
      "display_name": "Python 3"
    },
    "language_info": {
      "name": "python"
    }
  },
  "cells": [
    {
      "cell_type": "code",
      "execution_count": 17,
      "metadata": {
        "id": "B4yWqQdSoN9O"
      },
      "outputs": [],
      "source": [
        "# Example-1\n",
        "nums = [0,1,0,3,12]"
      ]
    },
    {
      "cell_type": "code",
      "source": [
        "output=[]\n",
        "for i in range(len(nums)):\n",
        "  if nums[i]!=0:\n",
        "    output.append(nums[i])\n",
        "\n",
        "for i in range(len(nums)):\n",
        "  if nums[i]==0:\n",
        "    output.append(nums[i])\n",
        "\n",
        "print('output =', output)"
      ],
      "metadata": {
        "colab": {
          "base_uri": "https://localhost:8080/"
        },
        "id": "JSb70VgMoYGg",
        "outputId": "3a66e1bc-0796-4482-953d-838edc6532a8"
      },
      "execution_count": 18,
      "outputs": [
        {
          "output_type": "stream",
          "name": "stdout",
          "text": [
            "output = [1, 3, 12, 0, 0]\n"
          ]
        }
      ]
    },
    {
      "cell_type": "code",
      "source": [
        "# Example-2\n",
        "nums=[0]"
      ],
      "metadata": {
        "id": "RONk-bhtou7q"
      },
      "execution_count": 19,
      "outputs": []
    },
    {
      "cell_type": "code",
      "source": [
        "output=[]\n",
        "for i in range(len(nums)):\n",
        "  if nums[i]!=0:\n",
        "    output.append(nums[i])\n",
        "\n",
        "for i in range(len(nums)):\n",
        "  if nums[i]==0:\n",
        "    output.append(nums[i])\n",
        "\n",
        "print('output =', output)"
      ],
      "metadata": {
        "colab": {
          "base_uri": "https://localhost:8080/"
        },
        "id": "oPJ0OIvTo27t",
        "outputId": "6d23bbb7-0651-44e3-ff70-35108502a7c5"
      },
      "execution_count": 20,
      "outputs": [
        {
          "output_type": "stream",
          "name": "stdout",
          "text": [
            "output = [0]\n"
          ]
        }
      ]
    },
    {
      "cell_type": "code",
      "source": [],
      "metadata": {
        "id": "mSpqK_jgpNnv"
      },
      "execution_count": null,
      "outputs": []
    }
  ]
}