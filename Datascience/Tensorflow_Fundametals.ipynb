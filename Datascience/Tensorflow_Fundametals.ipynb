{
 "cells": [
  {
   "cell_type": "markdown",
   "id": "22d410fb-74bb-487e-bf10-bb126d2eb016",
   "metadata": {},
   "source": [
    "## TensorFlow Fundamentals"
   ]
  },
  {
   "cell_type": "code",
   "execution_count": 1,
   "id": "a2718332-77ae-4439-be6d-60adfc7153fb",
   "metadata": {},
   "outputs": [
    {
     "name": "stdout",
     "output_type": "stream",
     "text": [
      "Collecting tensorflow\n",
      "  Downloading tensorflow-2.14.0-cp310-cp310-manylinux_2_17_x86_64.manylinux2014_x86_64.whl (489.8 MB)\n",
      "\u001b[2K     \u001b[90m━━━━━━━━━━━━━━━━━━━━━━━━━━━━━━━━━━━━━━━\u001b[0m \u001b[32m489.8/489.8 MB\u001b[0m \u001b[31m3.2 MB/s\u001b[0m eta \u001b[36m0:00:00\u001b[0m00:01\u001b[0m00:01\u001b[0m\n",
      "\u001b[?25hRequirement already satisfied: six>=1.12.0 in /opt/conda/lib/python3.10/site-packages (from tensorflow) (1.16.0)\n",
      "Collecting libclang>=13.0.0\n",
      "  Downloading libclang-16.0.6-py2.py3-none-manylinux2010_x86_64.whl (22.9 MB)\n",
      "\u001b[2K     \u001b[90m━━━━━━━━━━━━━━━━━━━━━━━━━━━━━━━━━━━━━━━━\u001b[0m \u001b[32m22.9/22.9 MB\u001b[0m \u001b[31m51.6 MB/s\u001b[0m eta \u001b[36m0:00:00\u001b[0m00:01\u001b[0m00:01\u001b[0m\n",
      "\u001b[?25hRequirement already satisfied: packaging in /opt/conda/lib/python3.10/site-packages (from tensorflow) (22.0)\n",
      "Collecting opt-einsum>=2.3.2\n",
      "  Downloading opt_einsum-3.3.0-py3-none-any.whl (65 kB)\n",
      "\u001b[2K     \u001b[90m━━━━━━━━━━━━━━━━━━━━━━━━━━━━━━━━━━━━━━━━\u001b[0m \u001b[32m65.5/65.5 kB\u001b[0m \u001b[31m11.7 MB/s\u001b[0m eta \u001b[36m0:00:00\u001b[0m\n",
      "\u001b[?25hRequirement already satisfied: typing-extensions>=3.6.6 in /opt/conda/lib/python3.10/site-packages (from tensorflow) (4.4.0)\n",
      "Collecting gast!=0.5.0,!=0.5.1,!=0.5.2,>=0.2.1\n",
      "  Downloading gast-0.5.4-py3-none-any.whl (19 kB)\n",
      "Requirement already satisfied: setuptools in /opt/conda/lib/python3.10/site-packages (from tensorflow) (65.5.1)\n",
      "Collecting astunparse>=1.6.0\n",
      "  Downloading astunparse-1.6.3-py2.py3-none-any.whl (12 kB)\n",
      "Requirement already satisfied: numpy>=1.23.5 in /opt/conda/lib/python3.10/site-packages (from tensorflow) (1.23.5)\n",
      "Collecting ml-dtypes==0.2.0\n",
      "  Downloading ml_dtypes-0.2.0-cp310-cp310-manylinux_2_17_x86_64.manylinux2014_x86_64.whl (1.0 MB)\n",
      "\u001b[2K     \u001b[90m━━━━━━━━━━━━━━━━━━━━━━━━━━━━━━━━━━━━━━━━\u001b[0m \u001b[32m1.0/1.0 MB\u001b[0m \u001b[31m64.0 MB/s\u001b[0m eta \u001b[36m0:00:00\u001b[0m\n",
      "\u001b[?25hCollecting tensorflow-estimator<2.15,>=2.14.0\n",
      "  Downloading tensorflow_estimator-2.14.0-py2.py3-none-any.whl (440 kB)\n",
      "\u001b[2K     \u001b[90m━━━━━━━━━━━━━━━━━━━━━━━━━━━━━━━━━━━━━━\u001b[0m \u001b[32m440.7/440.7 kB\u001b[0m \u001b[31m48.6 MB/s\u001b[0m eta \u001b[36m0:00:00\u001b[0m\n",
      "\u001b[?25hCollecting flatbuffers>=23.5.26\n",
      "  Downloading flatbuffers-23.5.26-py2.py3-none-any.whl (26 kB)\n",
      "Collecting google-pasta>=0.1.1\n",
      "  Downloading google_pasta-0.2.0-py3-none-any.whl (57 kB)\n",
      "\u001b[2K     \u001b[90m━━━━━━━━━━━━━━━━━━━━━━━━━━━━━━━━━━━━━━━━\u001b[0m \u001b[32m57.5/57.5 kB\u001b[0m \u001b[31m10.0 MB/s\u001b[0m eta \u001b[36m0:00:00\u001b[0m\n",
      "\u001b[?25hCollecting grpcio<2.0,>=1.24.3\n",
      "  Downloading grpcio-1.59.0-cp310-cp310-manylinux_2_17_x86_64.manylinux2014_x86_64.whl (5.3 MB)\n",
      "\u001b[2K     \u001b[90m━━━━━━━━━━━━━━━━━━━━━━━━━━━━━━━━━━━━━━━━\u001b[0m \u001b[32m5.3/5.3 MB\u001b[0m \u001b[31m70.9 MB/s\u001b[0m eta \u001b[36m0:00:00\u001b[0m00:01\u001b[0m00:01\u001b[0m\n",
      "\u001b[?25hCollecting wrapt<1.15,>=1.11.0\n",
      "  Downloading wrapt-1.14.1-cp310-cp310-manylinux_2_5_x86_64.manylinux1_x86_64.manylinux_2_17_x86_64.manylinux2014_x86_64.whl (77 kB)\n",
      "\u001b[2K     \u001b[90m━━━━━━━━━━━━━━━━━━━━━━━━━━━━━━━━━━━━━━━━\u001b[0m \u001b[32m77.9/77.9 kB\u001b[0m \u001b[31m14.0 MB/s\u001b[0m eta \u001b[36m0:00:00\u001b[0m\n",
      "\u001b[?25hCollecting tensorboard<2.15,>=2.14\n",
      "  Downloading tensorboard-2.14.1-py3-none-any.whl (5.5 MB)\n",
      "\u001b[2K     \u001b[90m━━━━━━━━━━━━━━━━━━━━━━━━━━━━━━━━━━━━━━━━\u001b[0m \u001b[32m5.5/5.5 MB\u001b[0m \u001b[31m69.5 MB/s\u001b[0m eta \u001b[36m0:00:00\u001b[0m00:01\u001b[0m00:01\u001b[0m\n",
      "\u001b[?25hCollecting keras<2.15,>=2.14.0\n",
      "  Downloading keras-2.14.0-py3-none-any.whl (1.7 MB)\n",
      "\u001b[2K     \u001b[90m━━━━━━━━━━━━━━━━━━━━━━━━━━━━━━━━━━━━━━━━\u001b[0m \u001b[32m1.7/1.7 MB\u001b[0m \u001b[31m70.4 MB/s\u001b[0m eta \u001b[36m0:00:00\u001b[0m\n",
      "\u001b[?25hRequirement already satisfied: h5py>=2.9.0 in /opt/conda/lib/python3.10/site-packages (from tensorflow) (3.7.0)\n",
      "Collecting absl-py>=1.0.0\n",
      "  Downloading absl_py-2.0.0-py3-none-any.whl (130 kB)\n",
      "\u001b[2K     \u001b[90m━━━━━━━━━━━━━━━━━━━━━━━━━━━━━━━━━━━━━━\u001b[0m \u001b[32m130.2/130.2 kB\u001b[0m \u001b[31m22.4 MB/s\u001b[0m eta \u001b[36m0:00:00\u001b[0m\n",
      "\u001b[?25hCollecting tensorflow-io-gcs-filesystem>=0.23.1\n",
      "  Downloading tensorflow_io_gcs_filesystem-0.34.0-cp310-cp310-manylinux_2_12_x86_64.manylinux2010_x86_64.whl (2.4 MB)\n",
      "\u001b[2K     \u001b[90m━━━━━━━━━━━━━━━━━━━━━━━━━━━━━━━━━━━━━━━━\u001b[0m \u001b[32m2.4/2.4 MB\u001b[0m \u001b[31m62.8 MB/s\u001b[0m eta \u001b[36m0:00:00\u001b[0m:00:01\u001b[0m\n",
      "\u001b[?25hRequirement already satisfied: protobuf!=4.21.0,!=4.21.1,!=4.21.2,!=4.21.3,!=4.21.4,!=4.21.5,<5.0.0dev,>=3.20.3 in /opt/conda/lib/python3.10/site-packages (from tensorflow) (4.21.11)\n",
      "Collecting termcolor>=1.1.0\n",
      "  Downloading termcolor-2.3.0-py3-none-any.whl (6.9 kB)\n",
      "Requirement already satisfied: wheel<1.0,>=0.23.0 in /opt/conda/lib/python3.10/site-packages (from astunparse>=1.6.0->tensorflow) (0.38.4)\n",
      "Collecting tensorboard-data-server<0.8.0,>=0.7.0\n",
      "  Downloading tensorboard_data_server-0.7.1-py3-none-manylinux2014_x86_64.whl (6.6 MB)\n",
      "\u001b[2K     \u001b[90m━━━━━━━━━━━━━━━━━━━━━━━━━━━━━━━━━━━━━━━━\u001b[0m \u001b[32m6.6/6.6 MB\u001b[0m \u001b[31m74.6 MB/s\u001b[0m eta \u001b[36m0:00:00\u001b[0m:00:01\u001b[0m0:01\u001b[0m\n",
      "\u001b[?25hCollecting werkzeug>=1.0.1\n",
      "  Downloading werkzeug-3.0.0-py3-none-any.whl (226 kB)\n",
      "\u001b[2K     \u001b[90m━━━━━━━━━━━━━━━━━━━━━━━━━━━━━━━━━━━━━━\u001b[0m \u001b[32m226.6/226.6 kB\u001b[0m \u001b[31m27.9 MB/s\u001b[0m eta \u001b[36m0:00:00\u001b[0m\n",
      "\u001b[?25hCollecting markdown>=2.6.8\n",
      "  Downloading Markdown-3.5-py3-none-any.whl (101 kB)\n",
      "\u001b[2K     \u001b[90m━━━━━━━━━━━━━━━━━━━━━━━━━━━━━━━━━━━━━━\u001b[0m \u001b[32m101.7/101.7 kB\u001b[0m \u001b[31m17.9 MB/s\u001b[0m eta \u001b[36m0:00:00\u001b[0m\n",
      "\u001b[?25hCollecting google-auth<3,>=1.6.3\n",
      "  Downloading google_auth-2.23.3-py2.py3-none-any.whl (182 kB)\n",
      "\u001b[2K     \u001b[90m━━━━━━━━━━━━━━━━━━━━━━━━━━━━━━━━━━━━━━\u001b[0m \u001b[32m182.3/182.3 kB\u001b[0m \u001b[31m26.6 MB/s\u001b[0m eta \u001b[36m0:00:00\u001b[0m\n",
      "\u001b[?25hRequirement already satisfied: requests<3,>=2.21.0 in /opt/conda/lib/python3.10/site-packages (from tensorboard<2.15,>=2.14->tensorflow) (2.28.1)\n",
      "Collecting google-auth-oauthlib<1.1,>=0.5\n",
      "  Downloading google_auth_oauthlib-1.0.0-py2.py3-none-any.whl (18 kB)\n",
      "Collecting cachetools<6.0,>=2.0.0\n",
      "  Downloading cachetools-5.3.1-py3-none-any.whl (9.3 kB)\n",
      "Collecting pyasn1-modules>=0.2.1\n",
      "  Downloading pyasn1_modules-0.3.0-py2.py3-none-any.whl (181 kB)\n",
      "\u001b[2K     \u001b[90m━━━━━━━━━━━━━━━━━━━━━━━━━━━━━━━━━━━━━━\u001b[0m \u001b[32m181.3/181.3 kB\u001b[0m \u001b[31m29.8 MB/s\u001b[0m eta \u001b[36m0:00:00\u001b[0m\n",
      "\u001b[?25hCollecting rsa<5,>=3.1.4\n",
      "  Downloading rsa-4.9-py3-none-any.whl (34 kB)\n",
      "Collecting requests-oauthlib>=0.7.0\n",
      "  Downloading requests_oauthlib-1.3.1-py2.py3-none-any.whl (23 kB)\n",
      "Requirement already satisfied: idna<4,>=2.5 in /opt/conda/lib/python3.10/site-packages (from requests<3,>=2.21.0->tensorboard<2.15,>=2.14->tensorflow) (3.4)\n",
      "Requirement already satisfied: charset-normalizer<3,>=2 in /opt/conda/lib/python3.10/site-packages (from requests<3,>=2.21.0->tensorboard<2.15,>=2.14->tensorflow) (2.1.1)\n",
      "Requirement already satisfied: certifi>=2017.4.17 in /opt/conda/lib/python3.10/site-packages (from requests<3,>=2.21.0->tensorboard<2.15,>=2.14->tensorflow) (2022.12.7)\n",
      "Requirement already satisfied: urllib3<1.27,>=1.21.1 in /opt/conda/lib/python3.10/site-packages (from requests<3,>=2.21.0->tensorboard<2.15,>=2.14->tensorflow) (1.26.13)\n",
      "Requirement already satisfied: MarkupSafe>=2.1.1 in /opt/conda/lib/python3.10/site-packages (from werkzeug>=1.0.1->tensorboard<2.15,>=2.14->tensorflow) (2.1.1)\n",
      "Collecting pyasn1<0.6.0,>=0.4.6\n",
      "  Downloading pyasn1-0.5.0-py2.py3-none-any.whl (83 kB)\n",
      "\u001b[2K     \u001b[90m━━━━━━━━━━━━━━━━━━━━━━━━━━━━━━━━━━━━━━━━\u001b[0m \u001b[32m83.9/83.9 kB\u001b[0m \u001b[31m14.4 MB/s\u001b[0m eta \u001b[36m0:00:00\u001b[0m\n",
      "\u001b[?25hRequirement already satisfied: oauthlib>=3.0.0 in /opt/conda/lib/python3.10/site-packages (from requests-oauthlib>=0.7.0->google-auth-oauthlib<1.1,>=0.5->tensorboard<2.15,>=2.14->tensorflow) (3.2.2)\n",
      "Installing collected packages: libclang, flatbuffers, wrapt, werkzeug, termcolor, tensorflow-io-gcs-filesystem, tensorflow-estimator, tensorboard-data-server, pyasn1, opt-einsum, ml-dtypes, markdown, keras, grpcio, google-pasta, gast, cachetools, astunparse, absl-py, rsa, requests-oauthlib, pyasn1-modules, google-auth, google-auth-oauthlib, tensorboard, tensorflow\n",
      "Successfully installed absl-py-2.0.0 astunparse-1.6.3 cachetools-5.3.1 flatbuffers-23.5.26 gast-0.5.4 google-auth-2.23.3 google-auth-oauthlib-1.0.0 google-pasta-0.2.0 grpcio-1.59.0 keras-2.14.0 libclang-16.0.6 markdown-3.5 ml-dtypes-0.2.0 opt-einsum-3.3.0 pyasn1-0.5.0 pyasn1-modules-0.3.0 requests-oauthlib-1.3.1 rsa-4.9 tensorboard-2.14.1 tensorboard-data-server-0.7.1 tensorflow-2.14.0 tensorflow-estimator-2.14.0 tensorflow-io-gcs-filesystem-0.34.0 termcolor-2.3.0 werkzeug-3.0.0 wrapt-1.14.1\n",
      "Note: you may need to restart the kernel to use updated packages.\n"
     ]
    }
   ],
   "source": [
    "pip install tensorflow"
   ]
  },
  {
   "cell_type": "code",
   "execution_count": 3,
   "id": "b49592ce-3166-4563-90e1-c48a6cb3d618",
   "metadata": {},
   "outputs": [
    {
     "name": "stderr",
     "output_type": "stream",
     "text": [
      "2023-10-10 11:46:42.083702: I tensorflow/tsl/cuda/cudart_stub.cc:28] Could not find cuda drivers on your machine, GPU will not be used.\n",
      "2023-10-10 11:46:42.148709: E tensorflow/compiler/xla/stream_executor/cuda/cuda_dnn.cc:9342] Unable to register cuDNN factory: Attempting to register factory for plugin cuDNN when one has already been registered\n",
      "2023-10-10 11:46:42.148777: E tensorflow/compiler/xla/stream_executor/cuda/cuda_fft.cc:609] Unable to register cuFFT factory: Attempting to register factory for plugin cuFFT when one has already been registered\n",
      "2023-10-10 11:46:42.148820: E tensorflow/compiler/xla/stream_executor/cuda/cuda_blas.cc:1518] Unable to register cuBLAS factory: Attempting to register factory for plugin cuBLAS when one has already been registered\n",
      "2023-10-10 11:46:42.159232: I tensorflow/tsl/cuda/cudart_stub.cc:28] Could not find cuda drivers on your machine, GPU will not be used.\n",
      "2023-10-10 11:46:42.160096: I tensorflow/core/platform/cpu_feature_guard.cc:182] This TensorFlow binary is optimized to use available CPU instructions in performance-critical operations.\n",
      "To enable the following instructions: AVX2 FMA, in other operations, rebuild TensorFlow with the appropriate compiler flags.\n",
      "2023-10-10 11:46:43.529101: W tensorflow/compiler/tf2tensorrt/utils/py_utils.cc:38] TF-TRT Warning: Could not find TensorRT\n"
     ]
    }
   ],
   "source": [
    "import tensorflow as tf"
   ]
  },
  {
   "cell_type": "markdown",
   "id": "4cd6bdbf-8f08-4d7d-a136-908929a6b4e6",
   "metadata": {},
   "source": []
  },
  {
   "cell_type": "markdown",
   "id": "4e781535-5c92-4f86-93ff-b9673ace287f",
   "metadata": {},
   "source": [
    "#### Tensor Constants"
   ]
  },
  {
   "cell_type": "code",
   "execution_count": 107,
   "id": "379ce4c3-6ed0-4416-bf2d-77002d7d3729",
   "metadata": {},
   "outputs": [],
   "source": [
    "constant = tf.constant(42)"
   ]
  },
  {
   "cell_type": "code",
   "execution_count": 108,
   "id": "2ceb5f5f-1419-4051-8bb8-419e8e8bc669",
   "metadata": {},
   "outputs": [
    {
     "data": {
      "text/plain": [
       "<tf.Tensor: shape=(), dtype=int32, numpy=42>"
      ]
     },
     "execution_count": 108,
     "metadata": {},
     "output_type": "execute_result"
    }
   ],
   "source": [
    "constant"
   ]
  },
  {
   "cell_type": "code",
   "execution_count": 109,
   "id": "bb1b6793-1261-4c71-bb59-225eaf9ef53c",
   "metadata": {},
   "outputs": [
    {
     "data": {
      "text/plain": [
       "42"
      ]
     },
     "execution_count": 109,
     "metadata": {},
     "output_type": "execute_result"
    }
   ],
   "source": [
    "constant.numpy()"
   ]
  },
  {
   "cell_type": "code",
   "execution_count": 110,
   "id": "0977bb35-00da-4545-9785-a281a67b2461",
   "metadata": {},
   "outputs": [],
   "source": [
    "string = tf.constant('Data Science')"
   ]
  },
  {
   "cell_type": "code",
   "execution_count": 111,
   "id": "4814b0ac-8c50-4042-b572-3ea8b37f21e9",
   "metadata": {},
   "outputs": [
    {
     "data": {
      "text/plain": [
       "<tf.Tensor: shape=(), dtype=string, numpy=b'Data Science'>"
      ]
     },
     "execution_count": 111,
     "metadata": {},
     "output_type": "execute_result"
    }
   ],
   "source": [
    "string"
   ]
  },
  {
   "cell_type": "code",
   "execution_count": 112,
   "id": "7224cc22-a7db-4ed3-be14-09bfde7074a8",
   "metadata": {},
   "outputs": [
    {
     "data": {
      "text/plain": [
       "b'Data Science'"
      ]
     },
     "execution_count": 112,
     "metadata": {},
     "output_type": "execute_result"
    }
   ],
   "source": [
    "string.numpy()"
   ]
  },
  {
   "cell_type": "code",
   "execution_count": 113,
   "id": "7bec5847-e89b-4782-a9e8-82ab2576274f",
   "metadata": {},
   "outputs": [],
   "source": [
    "string = tf.constant(True, dtype=tf.bool)"
   ]
  },
  {
   "cell_type": "code",
   "execution_count": 114,
   "id": "eedb514a-d123-4249-a2db-fe660f08c8cc",
   "metadata": {},
   "outputs": [],
   "source": [
    "string = tf.constant('34', dtype=tf.string)"
   ]
  },
  {
   "cell_type": "code",
   "execution_count": 115,
   "id": "b4be7b82-4b81-4bee-9dd9-2797db208933",
   "metadata": {},
   "outputs": [
    {
     "data": {
      "text/plain": [
       "<tf.Tensor: shape=(), dtype=string, numpy=b'34'>"
      ]
     },
     "execution_count": 115,
     "metadata": {},
     "output_type": "execute_result"
    }
   ],
   "source": [
    "string"
   ]
  },
  {
   "cell_type": "raw",
   "id": "57f5ecb8-d350-4404-a466-98966d7bee17",
   "metadata": {},
   "source": [
    "string.numpy()"
   ]
  },
  {
   "cell_type": "code",
   "execution_count": 116,
   "id": "daba727e-b5e7-48c8-b21d-a4abef4b53c0",
   "metadata": {},
   "outputs": [
    {
     "data": {
      "text/plain": [
       "b'34'"
      ]
     },
     "execution_count": 116,
     "metadata": {},
     "output_type": "execute_result"
    }
   ],
   "source": [
    "string.numpy()"
   ]
  },
  {
   "cell_type": "code",
   "execution_count": 117,
   "id": "44c920ee-eafb-4a8a-824c-1b280955a09b",
   "metadata": {},
   "outputs": [],
   "source": [
    "metrix = tf.constant([[4,6], [7,2]])"
   ]
  },
  {
   "cell_type": "code",
   "execution_count": 118,
   "id": "45e068e0-a498-4988-a7ee-077aaf9fd961",
   "metadata": {},
   "outputs": [
    {
     "data": {
      "text/plain": [
       "<tf.Tensor: shape=(2, 2), dtype=int32, numpy=\n",
       "array([[4, 6],\n",
       "       [7, 2]], dtype=int32)>"
      ]
     },
     "execution_count": 118,
     "metadata": {},
     "output_type": "execute_result"
    }
   ],
   "source": [
    "metrix"
   ]
  },
  {
   "cell_type": "code",
   "execution_count": 119,
   "id": "12d760dc-fd8a-43ae-9adc-6369fa9b3180",
   "metadata": {},
   "outputs": [
    {
     "data": {
      "text/plain": [
       "array([[4, 6],\n",
       "       [7, 2]], dtype=int32)"
      ]
     },
     "execution_count": 119,
     "metadata": {},
     "output_type": "execute_result"
    }
   ],
   "source": [
    "metrix.numpy()"
   ]
  },
  {
   "cell_type": "code",
   "execution_count": 120,
   "id": "36cc5bc2-0137-42be-a1c3-1c682735d55e",
   "metadata": {},
   "outputs": [
    {
     "data": {
      "text/plain": [
       "TensorShape([2, 2])"
      ]
     },
     "execution_count": 120,
     "metadata": {},
     "output_type": "execute_result"
    }
   ],
   "source": [
    "metrix.shape"
   ]
  },
  {
   "cell_type": "code",
   "execution_count": 121,
   "id": "a904630a-3deb-4109-878c-08a195796505",
   "metadata": {},
   "outputs": [
    {
     "data": {
      "text/plain": [
       "tf.int32"
      ]
     },
     "execution_count": 121,
     "metadata": {},
     "output_type": "execute_result"
    }
   ],
   "source": [
    "metrix.dtype"
   ]
  },
  {
   "cell_type": "code",
   "execution_count": 122,
   "id": "3d65457c-99fa-4726-864b-bd6c8193767a",
   "metadata": {},
   "outputs": [
    {
     "name": "stdout",
     "output_type": "stream",
     "text": [
      "tf.Tensor(\n",
      "[[1. 1. 1. 1. 1.]\n",
      " [1. 1. 1. 1. 1.]\n",
      " [1. 1. 1. 1. 1.]], shape=(3, 5), dtype=float32)\n"
     ]
    }
   ],
   "source": [
    "print(tf.ones(shape=(3,5)))"
   ]
  },
  {
   "cell_type": "code",
   "execution_count": 123,
   "id": "5c624c82-060e-4c23-acef-654e8bf6ca1d",
   "metadata": {},
   "outputs": [],
   "source": [
    "ones = tf.ones(shape=(3,5))"
   ]
  },
  {
   "cell_type": "code",
   "execution_count": 124,
   "id": "f33aa039-b442-4556-a388-acdb89ed6cb1",
   "metadata": {},
   "outputs": [
    {
     "data": {
      "text/plain": [
       "<tf.Tensor: shape=(3, 5), dtype=float32, numpy=\n",
       "array([[1., 1., 1., 1., 1.],\n",
       "       [1., 1., 1., 1., 1.],\n",
       "       [1., 1., 1., 1., 1.]], dtype=float32)>"
      ]
     },
     "execution_count": 124,
     "metadata": {},
     "output_type": "execute_result"
    }
   ],
   "source": [
    "ones"
   ]
  },
  {
   "cell_type": "code",
   "execution_count": 125,
   "id": "6108e6b1-f33e-4617-a722-527660ba120b",
   "metadata": {},
   "outputs": [
    {
     "data": {
      "text/plain": [
       "<tf.Tensor: shape=(6, 3), dtype=float32, numpy=\n",
       "array([[0., 0., 0.],\n",
       "       [0., 0., 0.],\n",
       "       [0., 0., 0.],\n",
       "       [0., 0., 0.],\n",
       "       [0., 0., 0.],\n",
       "       [0., 0., 0.]], dtype=float32)>"
      ]
     },
     "execution_count": 125,
     "metadata": {},
     "output_type": "execute_result"
    }
   ],
   "source": [
    "tf.zeros(shape=(6,3))"
   ]
  },
  {
   "cell_type": "code",
   "execution_count": 126,
   "id": "7bf3032b-ae2b-405f-a92e-56a6c8ade35d",
   "metadata": {},
   "outputs": [],
   "source": [
    "mtx1 = tf.constant([[5,7,3], [7,3,1]])\n",
    "mtx2 = tf.constant([[2,6,4], [8,3,7]])"
   ]
  },
  {
   "cell_type": "code",
   "execution_count": 127,
   "id": "31a214d4-a465-4f85-83f7-95d2846a0a30",
   "metadata": {},
   "outputs": [],
   "source": [
    "result = tf.add(mtx1, mtx2)"
   ]
  },
  {
   "cell_type": "code",
   "execution_count": 128,
   "id": "dc724353-2d29-4ba9-83b0-f7a7d501c20d",
   "metadata": {},
   "outputs": [
    {
     "data": {
      "text/plain": [
       "<tf.Tensor: shape=(2, 3), dtype=int32, numpy=\n",
       "array([[ 7, 13,  7],\n",
       "       [15,  6,  8]], dtype=int32)>"
      ]
     },
     "execution_count": 128,
     "metadata": {},
     "output_type": "execute_result"
    }
   ],
   "source": [
    "result"
   ]
  },
  {
   "cell_type": "markdown",
   "id": "3749ac93-dfa5-4680-9d3a-dc6e3f291161",
   "metadata": {},
   "source": []
  },
  {
   "cell_type": "markdown",
   "id": "361cabbf-02c4-41a4-8e64-37d96f0f95e5",
   "metadata": {},
   "source": [
    "#### Random Constant"
   ]
  },
  {
   "cell_type": "code",
   "execution_count": 129,
   "id": "94cac11d-1285-4fec-abf4-c9b285f4daff",
   "metadata": {},
   "outputs": [],
   "source": [
    "dist = tf.random.normal(shape=(3,3),mean=7, stddev=5)"
   ]
  },
  {
   "cell_type": "code",
   "execution_count": 130,
   "id": "bbe0b57a-0d22-4a6f-8106-6608130eab48",
   "metadata": {},
   "outputs": [
    {
     "data": {
      "text/plain": [
       "<tf.Tensor: shape=(3, 3), dtype=float32, numpy=\n",
       "array([[12.79003   ,  5.700716  ,  4.0077515 ],\n",
       "       [ 4.0848083 , 16.48298   , 13.603188  ],\n",
       "       [-0.40831375,  8.400764  ,  8.01189   ]], dtype=float32)>"
      ]
     },
     "execution_count": 130,
     "metadata": {},
     "output_type": "execute_result"
    }
   ],
   "source": [
    "dist"
   ]
  },
  {
   "cell_type": "code",
   "execution_count": 131,
   "id": "8a39a9e9-af72-43e5-a047-c367ac86672d",
   "metadata": {},
   "outputs": [],
   "source": [
    "norm = tf.random.uniform(shape=(3,3), minval=3, maxval=45)"
   ]
  },
  {
   "cell_type": "code",
   "execution_count": 132,
   "id": "245d0bd1-62a5-46ba-aa69-961d8b930bfe",
   "metadata": {},
   "outputs": [
    {
     "data": {
      "text/plain": [
       "<tf.Tensor: shape=(3, 3), dtype=float32, numpy=\n",
       "array([[31.155334 , 36.39885  , 28.159016 ],\n",
       "       [30.434868 ,  7.0749264,  7.5765667],\n",
       "       [26.341982 , 36.40993  , 10.814013 ]], dtype=float32)>"
      ]
     },
     "execution_count": 132,
     "metadata": {},
     "output_type": "execute_result"
    }
   ],
   "source": [
    "norm"
   ]
  },
  {
   "cell_type": "markdown",
   "id": "53a0e71f-2071-4283-8a74-d2fe119abcea",
   "metadata": {},
   "source": []
  },
  {
   "cell_type": "markdown",
   "id": "69495811-1c63-4a9d-b817-d453bae03263",
   "metadata": {},
   "source": [
    "#### Tensor Variables"
   ]
  },
  {
   "cell_type": "code",
   "execution_count": 133,
   "id": "e79cc41c-6ef4-4894-89ff-e7ee787299de",
   "metadata": {},
   "outputs": [],
   "source": [
    "var1 = tf.Variable(34)"
   ]
  },
  {
   "cell_type": "code",
   "execution_count": 134,
   "id": "f5eaae72-bd1f-4185-90fc-fcaf9174dd17",
   "metadata": {},
   "outputs": [
    {
     "data": {
      "text/plain": [
       "34"
      ]
     },
     "execution_count": 134,
     "metadata": {},
     "output_type": "execute_result"
    }
   ],
   "source": [
    "var1.numpy()"
   ]
  },
  {
   "cell_type": "code",
   "execution_count": 135,
   "id": "d00b3fed-c58b-4ae5-b108-881441e42064",
   "metadata": {},
   "outputs": [],
   "source": [
    "var1 = 8"
   ]
  },
  {
   "cell_type": "code",
   "execution_count": 136,
   "id": "13847223-ef4d-4d8d-9673-da508bfcb7a9",
   "metadata": {},
   "outputs": [
    {
     "data": {
      "text/plain": [
       "8"
      ]
     },
     "execution_count": 136,
     "metadata": {},
     "output_type": "execute_result"
    }
   ],
   "source": [
    "var1"
   ]
  },
  {
   "cell_type": "code",
   "execution_count": 137,
   "id": "8885bf13-1a6c-4988-a938-3f0c3cb72934",
   "metadata": {},
   "outputs": [
    {
     "data": {
      "text/plain": [
       "<tf.Variable 'Variable:0' shape=(2, 3, 3) dtype=int32, numpy=\n",
       "array([[[2, 4, 5],\n",
       "        [7, 5, 6],\n",
       "        [3, 8, 3]],\n",
       "\n",
       "       [[2, 4, 5],\n",
       "        [7, 5, 6],\n",
       "        [3, 8, 3]]], dtype=int32)>"
      ]
     },
     "execution_count": 137,
     "metadata": {},
     "output_type": "execute_result"
    }
   ],
   "source": [
    "tf.Variable([[[2,4,5], [7,5,6], [3,8,3]], [[2,4,5], [7,5,6], [3,8,3]]])"
   ]
  },
  {
   "cell_type": "markdown",
   "id": "afd504c9-d33e-4f95-9b09-3128f68bd6a9",
   "metadata": {},
   "source": []
  },
  {
   "cell_type": "markdown",
   "id": "2fab5a1b-a340-43f4-81fe-f1131a662c61",
   "metadata": {},
   "source": [
    "Variables can be assigned a new value but not constants cannot be assigned any new values"
   ]
  },
  {
   "cell_type": "code",
   "execution_count": 138,
   "id": "7544f802-a76f-4ab0-9aec-9fd5fc4ee4a4",
   "metadata": {},
   "outputs": [],
   "source": [
    "con = tf.constant(42)"
   ]
  },
  {
   "cell_type": "code",
   "execution_count": 139,
   "id": "a60a3bab-f459-4e30-befa-0a024ea37824",
   "metadata": {},
   "outputs": [
    {
     "data": {
      "text/plain": [
       "42"
      ]
     },
     "execution_count": 139,
     "metadata": {},
     "output_type": "execute_result"
    }
   ],
   "source": [
    "con.numpy()"
   ]
  },
  {
   "cell_type": "code",
   "execution_count": 140,
   "id": "7a7aece1-5d67-45b8-b896-93d5f3ca7b2f",
   "metadata": {},
   "outputs": [],
   "source": [
    "var = tf.Variable(34)"
   ]
  },
  {
   "cell_type": "code",
   "execution_count": 141,
   "id": "a5bc18f8-da34-4e82-9cdf-6db6151c5dc6",
   "metadata": {},
   "outputs": [
    {
     "data": {
      "text/plain": [
       "34"
      ]
     },
     "execution_count": 141,
     "metadata": {},
     "output_type": "execute_result"
    }
   ],
   "source": [
    "var.numpy()"
   ]
  },
  {
   "cell_type": "code",
   "execution_count": 142,
   "id": "12a6246d-c5c4-4873-b93b-3dc82676d5f3",
   "metadata": {},
   "outputs": [
    {
     "data": {
      "text/plain": [
       "<tf.Variable 'UnreadVariable' shape=() dtype=int32, numpy=89>"
      ]
     },
     "execution_count": 142,
     "metadata": {},
     "output_type": "execute_result"
    }
   ],
   "source": [
    "var.assign(89)"
   ]
  },
  {
   "cell_type": "code",
   "execution_count": 143,
   "id": "5b980c76-1798-4746-9e59-fbfa3c456e65",
   "metadata": {},
   "outputs": [
    {
     "data": {
      "text/plain": [
       "89"
      ]
     },
     "execution_count": 143,
     "metadata": {},
     "output_type": "execute_result"
    }
   ],
   "source": [
    "var.numpy()"
   ]
  },
  {
   "cell_type": "code",
   "execution_count": 144,
   "id": "c4e310e2-0f32-40ae-8d98-128d5961f1be",
   "metadata": {},
   "outputs": [
    {
     "ename": "AttributeError",
     "evalue": "'tensorflow.python.framework.ops.EagerTensor' object has no attribute 'assign'",
     "output_type": "error",
     "traceback": [
      "\u001b[0;31m---------------------------------------------------------------------------\u001b[0m",
      "\u001b[0;31mAttributeError\u001b[0m                            Traceback (most recent call last)",
      "Cell \u001b[0;32mIn[144], line 1\u001b[0m\n\u001b[0;32m----> 1\u001b[0m \u001b[43mconstant\u001b[49m\u001b[38;5;241;43m.\u001b[39;49m\u001b[43massign\u001b[49m(\u001b[38;5;241m34\u001b[39m)\n",
      "File \u001b[0;32m/opt/conda/lib/python3.10/site-packages/tensorflow/python/framework/tensor.py:261\u001b[0m, in \u001b[0;36mTensor.__getattr__\u001b[0;34m(self, name)\u001b[0m\n\u001b[1;32m    253\u001b[0m \u001b[38;5;28;01mif\u001b[39;00m name \u001b[38;5;129;01min\u001b[39;00m {\u001b[38;5;124m\"\u001b[39m\u001b[38;5;124mT\u001b[39m\u001b[38;5;124m\"\u001b[39m, \u001b[38;5;124m\"\u001b[39m\u001b[38;5;124mastype\u001b[39m\u001b[38;5;124m\"\u001b[39m, \u001b[38;5;124m\"\u001b[39m\u001b[38;5;124mravel\u001b[39m\u001b[38;5;124m\"\u001b[39m, \u001b[38;5;124m\"\u001b[39m\u001b[38;5;124mtranspose\u001b[39m\u001b[38;5;124m\"\u001b[39m, \u001b[38;5;124m\"\u001b[39m\u001b[38;5;124mreshape\u001b[39m\u001b[38;5;124m\"\u001b[39m, \u001b[38;5;124m\"\u001b[39m\u001b[38;5;124mclip\u001b[39m\u001b[38;5;124m\"\u001b[39m, \u001b[38;5;124m\"\u001b[39m\u001b[38;5;124msize\u001b[39m\u001b[38;5;124m\"\u001b[39m,\n\u001b[1;32m    254\u001b[0m             \u001b[38;5;124m\"\u001b[39m\u001b[38;5;124mtolist\u001b[39m\u001b[38;5;124m\"\u001b[39m, \u001b[38;5;124m\"\u001b[39m\u001b[38;5;124mdata\u001b[39m\u001b[38;5;124m\"\u001b[39m}:\n\u001b[1;32m    255\u001b[0m   \u001b[38;5;66;03m# TODO(wangpeng): Export the enable_numpy_behavior knob\u001b[39;00m\n\u001b[1;32m    256\u001b[0m   \u001b[38;5;28;01mraise\u001b[39;00m \u001b[38;5;167;01mAttributeError\u001b[39;00m(\n\u001b[1;32m    257\u001b[0m       \u001b[38;5;124mf\u001b[39m\u001b[38;5;124m\"\u001b[39m\u001b[38;5;132;01m{\u001b[39;00m\u001b[38;5;28mtype\u001b[39m(\u001b[38;5;28mself\u001b[39m)\u001b[38;5;241m.\u001b[39m\u001b[38;5;18m__name__\u001b[39m\u001b[38;5;132;01m}\u001b[39;00m\u001b[38;5;124m object has no attribute \u001b[39m\u001b[38;5;124m'\u001b[39m\u001b[38;5;132;01m{\u001b[39;00mname\u001b[38;5;132;01m}\u001b[39;00m\u001b[38;5;124m'\u001b[39m\u001b[38;5;124m. \u001b[39m\u001b[38;5;124m\"\u001b[39m \u001b[38;5;241m+\u001b[39m \u001b[38;5;124m\"\"\"\u001b[39m\n\u001b[1;32m    258\u001b[0m \u001b[38;5;124m    If you are looking for numpy-related methods, please run the following:\u001b[39m\n\u001b[1;32m    259\u001b[0m \u001b[38;5;124m    tf.experimental.numpy.experimental_enable_numpy_behavior()\u001b[39m\n\u001b[1;32m    260\u001b[0m \u001b[38;5;124m  \u001b[39m\u001b[38;5;124m\"\"\"\u001b[39m)\n\u001b[0;32m--> 261\u001b[0m \u001b[38;5;28;43mself\u001b[39;49m\u001b[38;5;241;43m.\u001b[39;49m\u001b[38;5;21;43m__getattribute__\u001b[39;49m\u001b[43m(\u001b[49m\u001b[43mname\u001b[49m\u001b[43m)\u001b[49m\n",
      "\u001b[0;31mAttributeError\u001b[0m: 'tensorflow.python.framework.ops.EagerTensor' object has no attribute 'assign'"
     ]
    }
   ],
   "source": [
    "constant.assign(34)"
   ]
  },
  {
   "cell_type": "code",
   "execution_count": null,
   "id": "9b69930e-5433-41cf-94ab-0af36d9ad1b1",
   "metadata": {},
   "outputs": [],
   "source": [
    "mtx = tf.Variable([[8,6,7], [4,5,8]]) "
   ]
  },
  {
   "cell_type": "code",
   "execution_count": 145,
   "id": "e4c38da4-0042-455a-8290-d14ed8c8323e",
   "metadata": {},
   "outputs": [
    {
     "data": {
      "text/plain": [
       "array([[8, 3, 6],\n",
       "       [9, 3, 6]], dtype=int32)"
      ]
     },
     "execution_count": 145,
     "metadata": {},
     "output_type": "execute_result"
    }
   ],
   "source": [
    "mtx.numpy()"
   ]
  },
  {
   "cell_type": "code",
   "execution_count": 146,
   "id": "33319b10-8553-43ac-9d58-1ca5c716cf41",
   "metadata": {},
   "outputs": [
    {
     "data": {
      "text/plain": [
       "<tf.Variable 'UnreadVariable' shape=(2, 3) dtype=int32, numpy=\n",
       "array([[8, 3, 6],\n",
       "       [9, 3, 6]], dtype=int32)>"
      ]
     },
     "execution_count": 146,
     "metadata": {},
     "output_type": "execute_result"
    }
   ],
   "source": [
    "## Assigning new values to a metrix\n",
    "mtx.assign([[8,3,6], [9,3,6]])"
   ]
  },
  {
   "cell_type": "code",
   "execution_count": 147,
   "id": "cf888c26-cc0e-46db-ac23-f555873dfa95",
   "metadata": {},
   "outputs": [
    {
     "data": {
      "text/plain": [
       "<tf.Variable 'Variable:0' shape=(2, 3) dtype=int32, numpy=\n",
       "array([[8, 3, 6],\n",
       "       [9, 3, 6]], dtype=int32)>"
      ]
     },
     "execution_count": 147,
     "metadata": {},
     "output_type": "execute_result"
    }
   ],
   "source": [
    "mtx"
   ]
  },
  {
   "cell_type": "code",
   "execution_count": 148,
   "id": "307ddabd-1a52-4962-9f3a-1deb51ad2940",
   "metadata": {},
   "outputs": [],
   "source": [
    "mtx1 = tf.Variable([[6,8,2], [5,7,8]]) "
   ]
  },
  {
   "cell_type": "code",
   "execution_count": 149,
   "id": "7ecd7797-127b-4879-b60a-20fee9ca3699",
   "metadata": {},
   "outputs": [
    {
     "data": {
      "text/plain": [
       "<tf.Variable 'Variable:0' shape=(2, 3) dtype=int32, numpy=\n",
       "array([[6, 8, 2],\n",
       "       [5, 7, 8]], dtype=int32)>"
      ]
     },
     "execution_count": 149,
     "metadata": {},
     "output_type": "execute_result"
    }
   ],
   "source": [
    "mtx1"
   ]
  },
  {
   "cell_type": "code",
   "execution_count": 150,
   "id": "a2910559-7f79-4abd-a711-56398eb34e75",
   "metadata": {},
   "outputs": [],
   "source": [
    "## Adding mtx to mtx1 and making a new metrix mtx2 : The values of the corresponding indexes of the two metrices gets added\n",
    "mtx2 = mtx.assign_add(mtx1)"
   ]
  },
  {
   "cell_type": "code",
   "execution_count": 151,
   "id": "cfa4aa7c-50e8-4e16-b27b-f3d6bffc72ab",
   "metadata": {},
   "outputs": [
    {
     "data": {
      "text/plain": [
       "<tf.Variable 'UnreadVariable' shape=(2, 3) dtype=int32, numpy=\n",
       "array([[14, 11,  8],\n",
       "       [14, 10, 14]], dtype=int32)>"
      ]
     },
     "execution_count": 151,
     "metadata": {},
     "output_type": "execute_result"
    }
   ],
   "source": [
    "mtx2"
   ]
  },
  {
   "cell_type": "code",
   "execution_count": 152,
   "id": "d29f68a2-7e5f-4f74-9a4b-d770aca809e5",
   "metadata": {},
   "outputs": [],
   "source": [
    "## Subtracting mtx1 to mtx and making a new metrix mtx3 : The difference beyween the values of the corresponding indexes gets calculated \n",
    "mtx3 = mtx.assign_sub(mtx1)"
   ]
  },
  {
   "cell_type": "code",
   "execution_count": 153,
   "id": "f2f34c5f-d72b-45af-8055-486c39b40675",
   "metadata": {},
   "outputs": [
    {
     "data": {
      "text/plain": [
       "<tf.Variable 'UnreadVariable' shape=(2, 3) dtype=int32, numpy=\n",
       "array([[8, 3, 6],\n",
       "       [9, 3, 6]], dtype=int32)>"
      ]
     },
     "execution_count": 153,
     "metadata": {},
     "output_type": "execute_result"
    }
   ],
   "source": [
    "mtx3"
   ]
  },
  {
   "cell_type": "code",
   "execution_count": 154,
   "id": "df9d7daa-9e06-4134-8831-d87b34bed0a7",
   "metadata": {},
   "outputs": [
    {
     "data": {
      "text/plain": [
       "TensorShape([2, 3])"
      ]
     },
     "execution_count": 154,
     "metadata": {},
     "output_type": "execute_result"
    }
   ],
   "source": [
    "## Checking the number of rows and columns that is the dimension of a metrix\n",
    "mtx.shape"
   ]
  },
  {
   "cell_type": "code",
   "execution_count": 155,
   "id": "8408aece-cbc3-48a1-beef-210207968d33",
   "metadata": {},
   "outputs": [],
   "source": [
    "## Changing the dimension of a metrix\n",
    "mtx4 = tf.reshape(mtx,[1,6])"
   ]
  },
  {
   "cell_type": "code",
   "execution_count": 156,
   "id": "131d3d0e-830f-4b8c-aff9-cbc46edb11c3",
   "metadata": {},
   "outputs": [
    {
     "data": {
      "text/plain": [
       "<tf.Tensor: shape=(1, 6), dtype=int32, numpy=array([[8, 3, 6, 9, 3, 6]], dtype=int32)>"
      ]
     },
     "execution_count": 156,
     "metadata": {},
     "output_type": "execute_result"
    }
   ],
   "source": [
    "mtx4"
   ]
  },
  {
   "cell_type": "code",
   "execution_count": 157,
   "id": "a4b3bf8b-68c0-473e-895d-732cd321c614",
   "metadata": {},
   "outputs": [
    {
     "data": {
      "text/plain": [
       "<tf.Variable 'Variable:0' shape=(2, 3) dtype=int32, numpy=\n",
       "array([[8, 3, 6],\n",
       "       [9, 3, 6]], dtype=int32)>"
      ]
     },
     "execution_count": 157,
     "metadata": {},
     "output_type": "execute_result"
    }
   ],
   "source": [
    "mtx"
   ]
  },
  {
   "cell_type": "code",
   "execution_count": 158,
   "id": "3fa10532-0612-4de1-a0b4-3bf93557c225",
   "metadata": {},
   "outputs": [
    {
     "name": "stdout",
     "output_type": "stream",
     "text": [
      "tf.Tensor(2, shape=(), dtype=int32)\n"
     ]
    }
   ],
   "source": [
    "## Checking the rank that is the number of dimensions of a metrix\n",
    "print(tf.rank(mtx))"
   ]
  },
  {
   "cell_type": "code",
   "execution_count": 159,
   "id": "cd1f3f7d-f38d-428d-ba3b-c468a63ce595",
   "metadata": {},
   "outputs": [],
   "source": [
    "big = tf.Variable([[[2,4,5], [7,5,6], [3,8,3]], [[5,7,2], [9,0,1], [4,9,2]]])"
   ]
  },
  {
   "cell_type": "code",
   "execution_count": 160,
   "id": "b1cea5b3-a37b-4287-9fb5-d4245d45093c",
   "metadata": {},
   "outputs": [
    {
     "data": {
      "text/plain": [
       "<tf.Variable 'Variable:0' shape=(2, 3, 3) dtype=int32, numpy=\n",
       "array([[[2, 4, 5],\n",
       "        [7, 5, 6],\n",
       "        [3, 8, 3]],\n",
       "\n",
       "       [[5, 7, 2],\n",
       "        [9, 0, 1],\n",
       "        [4, 9, 2]]], dtype=int32)>"
      ]
     },
     "execution_count": 160,
     "metadata": {},
     "output_type": "execute_result"
    }
   ],
   "source": [
    "big"
   ]
  },
  {
   "cell_type": "code",
   "execution_count": 161,
   "id": "0b67ab9b-092d-4063-91a8-ee3a02b60806",
   "metadata": {},
   "outputs": [
    {
     "name": "stdout",
     "output_type": "stream",
     "text": [
      "tf.Tensor(3, shape=(), dtype=int32)\n"
     ]
    }
   ],
   "source": [
    "print(tf.rank(big))"
   ]
  },
  {
   "cell_type": "code",
   "execution_count": 162,
   "id": "d803522c-e496-4ac0-a4fe-443ea1a4eca4",
   "metadata": {},
   "outputs": [
    {
     "data": {
      "text/plain": [
       "<tf.Tensor: shape=(), dtype=int32, numpy=4>"
      ]
     },
     "execution_count": 162,
     "metadata": {},
     "output_type": "execute_result"
    }
   ],
   "source": [
    "## Slicing operation\n",
    "big[0,0,1]"
   ]
  },
  {
   "cell_type": "code",
   "execution_count": 163,
   "id": "be32d9da-e366-4ccd-a622-b25bcbe3b118",
   "metadata": {},
   "outputs": [
    {
     "data": {
      "text/plain": [
       "<tf.Tensor: shape=(), dtype=int32, numpy=7>"
      ]
     },
     "execution_count": 163,
     "metadata": {},
     "output_type": "execute_result"
    }
   ],
   "source": [
    "big[1,0,1]"
   ]
  },
  {
   "cell_type": "code",
   "execution_count": 164,
   "id": "ffa6b794-a2bf-4f02-b71b-ff4a7d114a9d",
   "metadata": {},
   "outputs": [
    {
     "data": {
      "text/plain": [
       "<tf.Tensor: shape=(), dtype=int32, numpy=6>"
      ]
     },
     "execution_count": 164,
     "metadata": {},
     "output_type": "execute_result"
    }
   ],
   "source": [
    "## Checking the size of a metrix that is the total number of elements in a metrix \n",
    "tf.size(mtx)"
   ]
  },
  {
   "cell_type": "code",
   "execution_count": 165,
   "id": "5c8bb1c3-3ca1-4b99-a240-93028509706d",
   "metadata": {},
   "outputs": [
    {
     "data": {
      "text/plain": [
       "<tf.Variable 'Variable:0' shape=(2, 3) dtype=int32, numpy=\n",
       "array([[8, 3, 6],\n",
       "       [9, 3, 6]], dtype=int32)>"
      ]
     },
     "execution_count": 165,
     "metadata": {},
     "output_type": "execute_result"
    }
   ],
   "source": [
    "mtx"
   ]
  },
  {
   "cell_type": "code",
   "execution_count": 166,
   "id": "5e5ad72e-02eb-4797-838c-748adb6a7efb",
   "metadata": {},
   "outputs": [
    {
     "data": {
      "text/plain": [
       "<tf.Variable 'Variable:0' shape=(2, 3) dtype=int32, numpy=\n",
       "array([[6, 8, 2],\n",
       "       [5, 7, 8]], dtype=int32)>"
      ]
     },
     "execution_count": 166,
     "metadata": {},
     "output_type": "execute_result"
    }
   ],
   "source": [
    "mtx1"
   ]
  },
  {
   "cell_type": "markdown",
   "id": "2c8ac976-143f-48cd-be1b-5cc8b5a7700b",
   "metadata": {},
   "source": []
  },
  {
   "cell_type": "markdown",
   "id": "f5028b58-9547-4553-aaf1-1099f94ada09",
   "metadata": {},
   "source": [
    "#### Mathematical Operations of two metrices"
   ]
  },
  {
   "cell_type": "code",
   "execution_count": 167,
   "id": "4f517e08-4bd9-455d-ad7d-449eff017693",
   "metadata": {},
   "outputs": [],
   "source": [
    "## Addition operation: The values of the corresponding indices are getting added \n",
    "mtx5 = mtx + mtx1"
   ]
  },
  {
   "cell_type": "code",
   "execution_count": 168,
   "id": "d21d707d-fbb9-4eae-a4ce-695adf78389a",
   "metadata": {},
   "outputs": [
    {
     "data": {
      "text/plain": [
       "<tf.Tensor: shape=(2, 3), dtype=int32, numpy=\n",
       "array([[14, 11,  8],\n",
       "       [14, 10, 14]], dtype=int32)>"
      ]
     },
     "execution_count": 168,
     "metadata": {},
     "output_type": "execute_result"
    }
   ],
   "source": [
    "mtx5"
   ]
  },
  {
   "cell_type": "code",
   "execution_count": 169,
   "id": "373e8b39-3c07-41c8-99e1-e0760322b12f",
   "metadata": {},
   "outputs": [],
   "source": [
    "## Subtraction opeartion\n",
    "mtx6 = mtx - mtx1"
   ]
  },
  {
   "cell_type": "code",
   "execution_count": 170,
   "id": "ada8d021-8dbb-4695-85ad-3f63e238e3fa",
   "metadata": {},
   "outputs": [
    {
     "data": {
      "text/plain": [
       "<tf.Tensor: shape=(2, 3), dtype=int32, numpy=\n",
       "array([[ 2, -5,  4],\n",
       "       [ 4, -4, -2]], dtype=int32)>"
      ]
     },
     "execution_count": 170,
     "metadata": {},
     "output_type": "execute_result"
    }
   ],
   "source": [
    "mtx6"
   ]
  },
  {
   "cell_type": "code",
   "execution_count": 171,
   "id": "a8a2b807-57ac-410f-b1ed-f3ad5cd4ede7",
   "metadata": {},
   "outputs": [],
   "source": [
    "## Squaring each element of a metrix and making a new metrix\n",
    "mtx7 = tf.square(mtx)"
   ]
  },
  {
   "cell_type": "code",
   "execution_count": 172,
   "id": "a672255a-67bd-4dbb-a8a7-3d1cd1dd9f63",
   "metadata": {},
   "outputs": [
    {
     "data": {
      "text/plain": [
       "<tf.Tensor: shape=(2, 3), dtype=int32, numpy=\n",
       "array([[64,  9, 36],\n",
       "       [81,  9, 36]], dtype=int32)>"
      ]
     },
     "execution_count": 172,
     "metadata": {},
     "output_type": "execute_result"
    }
   ],
   "source": [
    "mtx7"
   ]
  },
  {
   "cell_type": "code",
   "execution_count": 173,
   "id": "a16655fd-bfbc-4107-b358-f25439a2ea9b",
   "metadata": {},
   "outputs": [],
   "source": [
    "## Multiplication operation of two metrices : The values of the corresponding indices are getting multiplied\n",
    "mtx8 = mtx*mtx1"
   ]
  },
  {
   "cell_type": "code",
   "execution_count": 174,
   "id": "e32b27c7-9a02-4953-934e-673e5447b14c",
   "metadata": {},
   "outputs": [
    {
     "data": {
      "text/plain": [
       "<tf.Tensor: shape=(2, 3), dtype=int32, numpy=\n",
       "array([[48, 24, 12],\n",
       "       [45, 21, 48]], dtype=int32)>"
      ]
     },
     "execution_count": 174,
     "metadata": {},
     "output_type": "execute_result"
    }
   ],
   "source": [
    "mtx8"
   ]
  },
  {
   "cell_type": "markdown",
   "id": "72a34dd7-6b0d-4efc-9390-26a2b7e42f80",
   "metadata": {},
   "source": []
  },
  {
   "cell_type": "markdown",
   "id": "3cbeda59-e054-48d1-bd3a-b7e607656d37",
   "metadata": {},
   "source": [
    "#### Broadcating"
   ]
  },
  {
   "cell_type": "code",
   "execution_count": 175,
   "id": "b91aa682-3686-447b-817c-ba618cfd486c",
   "metadata": {},
   "outputs": [],
   "source": [
    "mtx9 = mtx-4"
   ]
  },
  {
   "cell_type": "code",
   "execution_count": 176,
   "id": "2e977ae3-9b3c-477e-8c62-c28104dd780a",
   "metadata": {},
   "outputs": [
    {
     "data": {
      "text/plain": [
       "<tf.Tensor: shape=(2, 3), dtype=int32, numpy=\n",
       "array([[ 4, -1,  2],\n",
       "       [ 5, -1,  2]], dtype=int32)>"
      ]
     },
     "execution_count": 176,
     "metadata": {},
     "output_type": "execute_result"
    }
   ],
   "source": [
    "mtx9"
   ]
  },
  {
   "cell_type": "markdown",
   "id": "95570065-7355-4367-8eeb-876733fe4d94",
   "metadata": {},
   "source": []
  },
  {
   "cell_type": "markdown",
   "id": "ace7ed8c-849c-41fa-b580-0bda2b011cf1",
   "metadata": {},
   "source": [
    "#### Dot product of two metrices "
   ]
  },
  {
   "cell_type": "code",
   "execution_count": 177,
   "id": "32e3190b-3f35-42c8-bbce-6dda1250b39b",
   "metadata": {},
   "outputs": [],
   "source": [
    "mtx10 = tf.transpose(mtx1)"
   ]
  },
  {
   "cell_type": "code",
   "execution_count": 178,
   "id": "2982ee5b-bb08-4240-8e36-6a406fe167a6",
   "metadata": {},
   "outputs": [
    {
     "data": {
      "text/plain": [
       "<tf.Tensor: shape=(2, 2), dtype=int32, numpy=\n",
       "array([[ 84, 109],\n",
       "       [ 90, 114]], dtype=int32)>"
      ]
     },
     "execution_count": 178,
     "metadata": {},
     "output_type": "execute_result"
    }
   ],
   "source": [
    "tf.matmul(mtx, mtx10)"
   ]
  },
  {
   "cell_type": "markdown",
   "id": "476468f4-6b05-48fe-b90b-3094272e1f6b",
   "metadata": {},
   "source": []
  },
  {
   "cell_type": "markdown",
   "id": "e79cfc5c-766f-4b86-b769-d0261fdde3dd",
   "metadata": {},
   "source": [
    "#### Casting"
   ]
  },
  {
   "cell_type": "code",
   "execution_count": 179,
   "id": "44c2d463-1915-498d-90f3-292d5bc26e6d",
   "metadata": {},
   "outputs": [
    {
     "data": {
      "text/plain": [
       "tf.int32"
      ]
     },
     "execution_count": 179,
     "metadata": {},
     "output_type": "execute_result"
    }
   ],
   "source": [
    "mtx.dtype"
   ]
  },
  {
   "cell_type": "code",
   "execution_count": 180,
   "id": "6cd2e85f-d329-4075-b455-daac9f297e53",
   "metadata": {},
   "outputs": [
    {
     "data": {
      "text/plain": [
       "<tf.Tensor: shape=(2, 3), dtype=int64, numpy=\n",
       "array([[8, 3, 6],\n",
       "       [9, 3, 6]])>"
      ]
     },
     "execution_count": 180,
     "metadata": {},
     "output_type": "execute_result"
    }
   ],
   "source": [
    "## Changing the datatype of metrix 'mtx' from int32 to int64 \n",
    "tf.cast(mtx, dtype=tf.int64)"
   ]
  },
  {
   "cell_type": "markdown",
   "id": "16412cc5-9cbb-4d20-bbd2-fb1b2692236d",
   "metadata": {},
   "source": []
  },
  {
   "cell_type": "code",
   "execution_count": 181,
   "id": "069e0c66-d598-42aa-a5b2-6bf31f8c4313",
   "metadata": {},
   "outputs": [
    {
     "data": {
      "text/plain": [
       "<tf.RaggedTensor [[1, 2, 3], [6]]>"
      ]
     },
     "execution_count": 181,
     "metadata": {},
     "output_type": "execute_result"
    }
   ],
   "source": [
    "## Ragged constant allows us to create a non rectrangular metrics\n",
    "tf.ragged.constant([[1,2,3], [6]])"
   ]
  },
  {
   "cell_type": "code",
   "execution_count": 182,
   "id": "d53cf595-10ad-461c-9521-9abc6b9e6ec1",
   "metadata": {},
   "outputs": [
    {
     "data": {
      "text/plain": [
       "<tf.Tensor: shape=(2, 3), dtype=int32, numpy=\n",
       "array([[ 4, 25, 16],\n",
       "       [16, 16,  4]], dtype=int32)>"
      ]
     },
     "execution_count": 182,
     "metadata": {},
     "output_type": "execute_result"
    }
   ],
   "source": [
    "## Squaring each element of the metrices and then taking the differences of those squared values index wise\n",
    "tf.math.squared_difference(mtx, mtx1)"
   ]
  },
  {
   "cell_type": "code",
   "execution_count": 183,
   "id": "43637cf8-492c-43cc-bbbf-039f496e6a83",
   "metadata": {},
   "outputs": [
    {
     "data": {
      "text/plain": [
       "<tf.Tensor: shape=(), dtype=int32, numpy=5>"
      ]
     },
     "execution_count": 183,
     "metadata": {},
     "output_type": "execute_result"
    }
   ],
   "source": [
    "## Calculating the mean of an entire metrix\n",
    "tf.reduce_mean(mtx)"
   ]
  },
  {
   "cell_type": "code",
   "execution_count": 184,
   "id": "f315d5b0-c215-426e-8ab5-8e997061fb7c",
   "metadata": {},
   "outputs": [
    {
     "data": {
      "text/plain": [
       "<tf.Tensor: shape=(), dtype=int32, numpy=3>"
      ]
     },
     "execution_count": 184,
     "metadata": {},
     "output_type": "execute_result"
    }
   ],
   "source": [
    "## Calculating the mimimum value of an entire metrix\n",
    "tf.reduce_min(mtx)"
   ]
  },
  {
   "cell_type": "code",
   "execution_count": 185,
   "id": "2d426825-ee98-45ac-901c-0eaa0cc5df16",
   "metadata": {},
   "outputs": [
    {
     "data": {
      "text/plain": [
       "<tf.Tensor: shape=(3,), dtype=int32, numpy=array([8, 3, 6], dtype=int32)>"
      ]
     },
     "execution_count": 185,
     "metadata": {},
     "output_type": "execute_result"
    }
   ],
   "source": [
    "## Calculating the mimimum value row wise\n",
    "tf.reduce_min(mtx, axis=0)"
   ]
  },
  {
   "cell_type": "code",
   "execution_count": 186,
   "id": "3c6a2881-d72b-4a60-911a-768bd4056083",
   "metadata": {},
   "outputs": [
    {
     "data": {
      "text/plain": [
       "<tf.Tensor: shape=(2,), dtype=int32, numpy=array([3, 3], dtype=int32)>"
      ]
     },
     "execution_count": 186,
     "metadata": {},
     "output_type": "execute_result"
    }
   ],
   "source": [
    "## Calculating the minimum value column wise\n",
    "tf.reduce_min(mtx, axis=1)"
   ]
  },
  {
   "cell_type": "code",
   "execution_count": 187,
   "id": "cd725e88-0dbb-438b-b903-c53632cb74dc",
   "metadata": {},
   "outputs": [
    {
     "data": {
      "text/plain": [
       "<tf.Variable 'Variable:0' shape=(2, 3, 3) dtype=int32, numpy=\n",
       "array([[[2, 4, 5],\n",
       "        [7, 5, 6],\n",
       "        [3, 8, 3]],\n",
       "\n",
       "       [[5, 7, 2],\n",
       "        [9, 0, 1],\n",
       "        [4, 9, 2]]], dtype=int32)>"
      ]
     },
     "execution_count": 187,
     "metadata": {},
     "output_type": "execute_result"
    }
   ],
   "source": [
    "big"
   ]
  },
  {
   "cell_type": "code",
   "execution_count": 188,
   "id": "36adcf7d-263c-4216-8c22-891cb165178e",
   "metadata": {},
   "outputs": [
    {
     "data": {
      "text/plain": [
       "<tf.Tensor: shape=(2, 1, 3), dtype=int32, numpy=\n",
       "array([[[4, 5, 4]],\n",
       "\n",
       "       [[6, 5, 1]]], dtype=int32)>"
      ]
     },
     "execution_count": 188,
     "metadata": {},
     "output_type": "execute_result"
    }
   ],
   "source": [
    "## Taking the mean of the enire metrix column wise still maintaining the dimension\n",
    "tf.reduce_mean(big, axis=1, keepdims=True)"
   ]
  },
  {
   "cell_type": "markdown",
   "id": "46a014e3-5149-4932-a666-ab980ed3cfe9",
   "metadata": {},
   "source": []
  },
  {
   "cell_type": "markdown",
   "id": "f05275b6-e4e1-4120-ad1f-01b2e7c847d5",
   "metadata": {},
   "source": [
    "#### Setting the seed "
   ]
  },
  {
   "cell_type": "code",
   "execution_count": 189,
   "id": "e9d14166-f919-4303-892e-ae1570fd89c4",
   "metadata": {},
   "outputs": [
    {
     "data": {
      "text/plain": [
       "<tf.Tensor: shape=(2, 4), dtype=float32, numpy=\n",
       "array([[0.25061703, 0.8159225 , 0.29261577, 0.9327979 ],\n",
       "       [0.76441216, 0.14772058, 0.33168125, 0.00725472]], dtype=float32)>"
      ]
     },
     "execution_count": 189,
     "metadata": {},
     "output_type": "execute_result"
    }
   ],
   "source": [
    "## Setting a seed value helps us to keep a set of values intact even after frequent iterations\n",
    "tf.random.set_seed(11)\n",
    "tf.random.uniform(shape=[2,4])"
   ]
  },
  {
   "cell_type": "markdown",
   "id": "6e73b081-1a05-4a69-aa14-8d9622428c7f",
   "metadata": {},
   "source": []
  },
  {
   "cell_type": "markdown",
   "id": "1943de48-8099-44f3-b5e3-9cef50403fb9",
   "metadata": {},
   "source": [
    "#### Concatination of metrices"
   ]
  },
  {
   "cell_type": "code",
   "execution_count": 190,
   "id": "b1df27d5-1bbb-4cac-b6bc-2ce73b0d2379",
   "metadata": {},
   "outputs": [],
   "source": [
    "dice1 = tf.random.uniform(shape=(10,1), minval=1, maxval=9)\n",
    "dice2 = tf.random.uniform(shape=(10,1), minval=3, maxval=10)\n",
    "dice3 = dice1+dice2"
   ]
  },
  {
   "cell_type": "code",
   "execution_count": 191,
   "id": "7b1c370b-348e-4783-a0b6-153eb50d858e",
   "metadata": {},
   "outputs": [
    {
     "data": {
      "text/plain": [
       "<tf.Tensor: shape=(10, 3), dtype=float32, numpy=\n",
       "array([[ 5.466031 ,  5.6238136, 11.089845 ],\n",
       "       [ 1.4325666,  3.6858559,  5.1184225],\n",
       "       [ 1.7517538,  7.1249943,  8.876748 ],\n",
       "       [ 6.5324936,  3.4212713,  9.953765 ],\n",
       "       [ 1.2239761,  7.8001432,  9.024119 ],\n",
       "       [ 2.6995668,  9.498018 , 12.197585 ],\n",
       "       [ 1.7427073,  7.845787 ,  9.588494 ],\n",
       "       [ 3.9733286,  6.7660017, 10.73933  ],\n",
       "       [ 8.667832 ,  6.0506506, 14.718483 ],\n",
       "       [ 5.3797016,  3.8733735,  9.253075 ]], dtype=float32)>"
      ]
     },
     "execution_count": 191,
     "metadata": {},
     "output_type": "execute_result"
    }
   ],
   "source": [
    "tf.concat(values=[dice1, dice2, dice3], axis=1)"
   ]
  },
  {
   "cell_type": "markdown",
   "id": "9afc8be7-3780-4858-a4ed-953b3e68c40d",
   "metadata": {},
   "source": []
  },
  {
   "cell_type": "markdown",
   "id": "e8c318b6-9835-4f26-8c60-9c8c16fe344a",
   "metadata": {},
   "source": [
    "#### Checking the argument(or index) of the maximum or minimum value of an array"
   ]
  },
  {
   "cell_type": "code",
   "execution_count": 192,
   "id": "edbdec7c-a029-42d2-a666-cfa3f2e60536",
   "metadata": {},
   "outputs": [],
   "source": [
    "tensor = tf.constant([4,6,2,9,5])"
   ]
  },
  {
   "cell_type": "code",
   "execution_count": 193,
   "id": "7151e8c4-ffe9-4c10-afa9-dbdde512a03b",
   "metadata": {},
   "outputs": [
    {
     "data": {
      "text/plain": [
       "<tf.Tensor: shape=(5,), dtype=int32, numpy=array([4, 6, 2, 9, 5], dtype=int32)>"
      ]
     },
     "execution_count": 193,
     "metadata": {},
     "output_type": "execute_result"
    }
   ],
   "source": [
    "tensor"
   ]
  },
  {
   "cell_type": "code",
   "execution_count": 194,
   "id": "f2e010d4-d980-422e-9433-c33822dc3015",
   "metadata": {},
   "outputs": [
    {
     "name": "stdout",
     "output_type": "stream",
     "text": [
      "tf.Tensor(3, shape=(), dtype=int64)\n",
      "<bound method _EagerTensorBase.numpy of <tf.Tensor: shape=(), dtype=int32, numpy=9>>\n"
     ]
    }
   ],
   "source": [
    "i = tf.argmax(tensor)\n",
    "print(i)\n",
    "print(tensor[i].numpy)"
   ]
  },
  {
   "cell_type": "code",
   "execution_count": 195,
   "id": "64b02a9b-7a71-40ce-8a1c-b4292bdc4461",
   "metadata": {},
   "outputs": [
    {
     "name": "stdout",
     "output_type": "stream",
     "text": [
      "tf.Tensor(2, shape=(), dtype=int64)\n",
      "<bound method _EagerTensorBase.numpy of <tf.Tensor: shape=(), dtype=int32, numpy=2>>\n"
     ]
    }
   ],
   "source": [
    "i = tf.argmin(tensor)\n",
    "print(i)\n",
    "print(tensor[i].numpy)"
   ]
  },
  {
   "cell_type": "code",
   "execution_count": 196,
   "id": "cea752a2-62e8-497d-87b6-d60e52190e41",
   "metadata": {},
   "outputs": [
    {
     "data": {
      "text/plain": [
       "<tf.Variable 'Variable:0' shape=(2, 3) dtype=int32, numpy=\n",
       "array([[8, 3, 6],\n",
       "       [9, 3, 6]], dtype=int32)>"
      ]
     },
     "execution_count": 196,
     "metadata": {},
     "output_type": "execute_result"
    }
   ],
   "source": [
    "mtx"
   ]
  },
  {
   "cell_type": "code",
   "execution_count": 197,
   "id": "86f57c4a-c071-4313-ae7c-93d06697a4eb",
   "metadata": {},
   "outputs": [
    {
     "name": "stdout",
     "output_type": "stream",
     "text": [
      "tf.Tensor([0 0], shape=(2,), dtype=int64)\n"
     ]
    }
   ],
   "source": [
    "## Checking argmax column wise\n",
    "i = tf.argmax(mtx, axis=1)\n",
    "print(i)"
   ]
  },
  {
   "cell_type": "code",
   "execution_count": 198,
   "id": "b5fb08d9-b1ae-4c67-b191-017e39d95ae4",
   "metadata": {},
   "outputs": [
    {
     "name": "stdout",
     "output_type": "stream",
     "text": [
      "tf.Tensor([1 0 0], shape=(3,), dtype=int64)\n"
     ]
    }
   ],
   "source": [
    "## Checking argmax row wise\n",
    "i = tf.argmax(mtx, axis=0)\n",
    "print(i)"
   ]
  },
  {
   "cell_type": "markdown",
   "id": "777a8e82-f4b3-4ba6-a025-06099d41ab4e",
   "metadata": {},
   "source": []
  },
  {
   "cell_type": "markdown",
   "id": "40661ff6-1aa9-4e00-9d40-aad544a74597",
   "metadata": {},
   "source": [
    "#### Tensor Function"
   ]
  },
  {
   "cell_type": "code",
   "execution_count": 199,
   "id": "bf7addd1-115c-4580-8706-5ef20a107798",
   "metadata": {},
   "outputs": [],
   "source": [
    "def tensor(x1, x2):\n",
    "    return tf.subtract(x1**3, x2**2)"
   ]
  },
  {
   "cell_type": "code",
   "execution_count": 200,
   "id": "e5591e49-fb35-4bf1-bf6b-50a47dad7f97",
   "metadata": {},
   "outputs": [
    {
     "data": {
      "text/plain": [
       "85041"
      ]
     },
     "execution_count": 200,
     "metadata": {},
     "output_type": "execute_result"
    }
   ],
   "source": [
    "tensor(45,78).numpy()"
   ]
  },
  {
   "cell_type": "code",
   "execution_count": 201,
   "id": "cd93f5b3-3ba4-4ea8-844b-d1a93ed1a592",
   "metadata": {},
   "outputs": [],
   "source": [
    "def tensor1(x1, x2, x3):\n",
    "    return tf.add(x1, x2**2, x3/2)"
   ]
  },
  {
   "cell_type": "code",
   "execution_count": 202,
   "id": "380e2444-3d13-48bb-98db-f3c4d21f792e",
   "metadata": {},
   "outputs": [
    {
     "data": {
      "text/plain": [
       "2259"
      ]
     },
     "execution_count": 202,
     "metadata": {},
     "output_type": "execute_result"
    }
   ],
   "source": [
    "tensor1(234, 45, 88).numpy()"
   ]
  },
  {
   "cell_type": "code",
   "execution_count": 203,
   "id": "3db79c6b-cdce-4058-9fd2-f2b0ebff4320",
   "metadata": {},
   "outputs": [],
   "source": [
    "def tensor1(x1, x2):\n",
    "    return tf.reduce_mean(tf.multiply(x1**2, 8) + x2*5)"
   ]
  },
  {
   "cell_type": "code",
   "execution_count": 204,
   "id": "68c01a02-369e-4e8c-bc30-b9ac9e9d3751",
   "metadata": {},
   "outputs": [
    {
     "data": {
      "text/plain": [
       "206"
      ]
     },
     "execution_count": 204,
     "metadata": {},
     "output_type": "execute_result"
    }
   ],
   "source": [
    "tensor1(tf.constant([4,5]), tf.constant([8,9])).numpy()"
   ]
  },
  {
   "cell_type": "markdown",
   "id": "a2e4a337-b50f-4feb-9d54-a469a5b81cc1",
   "metadata": {},
   "source": []
  }
 ],
 "metadata": {
  "kernelspec": {
   "display_name": "Python 3 (ipykernel)",
   "language": "python",
   "name": "python3"
  },
  "language_info": {
   "codemirror_mode": {
    "name": "ipython",
    "version": 3
   },
   "file_extension": ".py",
   "mimetype": "text/x-python",
   "name": "python",
   "nbconvert_exporter": "python",
   "pygments_lexer": "ipython3",
   "version": "3.10.8"
  }
 },
 "nbformat": 4,
 "nbformat_minor": 5
}
