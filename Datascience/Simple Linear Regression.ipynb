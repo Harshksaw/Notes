{
 "cells": [
  {
   "cell_type": "code",
   "execution_count": 1,
   "id": "0dd84c88-6323-45b9-8cfe-a5eecd3f3c68",
   "metadata": {},
   "outputs": [],
   "source": [
    "import pandas as pd\n",
    "import numpy as np\n",
    "import matplotlib.pyplot as plt"
   ]
  },
  {
   "cell_type": "code",
   "execution_count": 2,
   "id": "ab30dddc-a380-43f8-860c-e595a3cf5eb0",
   "metadata": {},
   "outputs": [],
   "source": [
    "df = pd.read_csv('height-weight.csv')"
   ]
  },
  {
   "cell_type": "code",
   "execution_count": 3,
   "id": "39e9c4f4-896f-4e1d-b190-da63c89dd7ae",
   "metadata": {},
   "outputs": [
    {
     "data": {
      "text/html": [
       "<div>\n",
       "<style scoped>\n",
       "    .dataframe tbody tr th:only-of-type {\n",
       "        vertical-align: middle;\n",
       "    }\n",
       "\n",
       "    .dataframe tbody tr th {\n",
       "        vertical-align: top;\n",
       "    }\n",
       "\n",
       "    .dataframe thead th {\n",
       "        text-align: right;\n",
       "    }\n",
       "</style>\n",
       "<table border=\"1\" class=\"dataframe\">\n",
       "  <thead>\n",
       "    <tr style=\"text-align: right;\">\n",
       "      <th></th>\n",
       "      <th>Weight</th>\n",
       "      <th>Height</th>\n",
       "    </tr>\n",
       "  </thead>\n",
       "  <tbody>\n",
       "    <tr>\n",
       "      <th>0</th>\n",
       "      <td>45</td>\n",
       "      <td>120</td>\n",
       "    </tr>\n",
       "    <tr>\n",
       "      <th>1</th>\n",
       "      <td>58</td>\n",
       "      <td>135</td>\n",
       "    </tr>\n",
       "    <tr>\n",
       "      <th>2</th>\n",
       "      <td>48</td>\n",
       "      <td>123</td>\n",
       "    </tr>\n",
       "    <tr>\n",
       "      <th>3</th>\n",
       "      <td>60</td>\n",
       "      <td>145</td>\n",
       "    </tr>\n",
       "    <tr>\n",
       "      <th>4</th>\n",
       "      <td>70</td>\n",
       "      <td>160</td>\n",
       "    </tr>\n",
       "  </tbody>\n",
       "</table>\n",
       "</div>"
      ],
      "text/plain": [
       "   Weight  Height\n",
       "0      45     120\n",
       "1      58     135\n",
       "2      48     123\n",
       "3      60     145\n",
       "4      70     160"
      ]
     },
     "execution_count": 3,
     "metadata": {},
     "output_type": "execute_result"
    }
   ],
   "source": [
    "df.head()"
   ]
  },
  {
   "cell_type": "code",
   "execution_count": 4,
   "id": "fa08291f-819f-4f30-8b18-ac164c1b8e4c",
   "metadata": {},
   "outputs": [
    {
     "data": {
      "text/plain": [
       "(23, 2)"
      ]
     },
     "execution_count": 4,
     "metadata": {},
     "output_type": "execute_result"
    }
   ],
   "source": [
    "df.shape"
   ]
  },
  {
   "cell_type": "code",
   "execution_count": 5,
   "id": "40f71a08-f43d-402d-a9af-3289f8bff358",
   "metadata": {},
   "outputs": [
    {
     "name": "stdout",
     "output_type": "stream",
     "text": [
      "<class 'pandas.core.frame.DataFrame'>\n",
      "RangeIndex: 23 entries, 0 to 22\n",
      "Data columns (total 2 columns):\n",
      " #   Column  Non-Null Count  Dtype\n",
      "---  ------  --------------  -----\n",
      " 0   Weight  23 non-null     int64\n",
      " 1   Height  23 non-null     int64\n",
      "dtypes: int64(2)\n",
      "memory usage: 496.0 bytes\n"
     ]
    }
   ],
   "source": [
    "df.info()"
   ]
  },
  {
   "cell_type": "code",
   "execution_count": 6,
   "id": "346f2028-504f-4c7a-b8f1-faa2164c6ce0",
   "metadata": {},
   "outputs": [
    {
     "data": {
      "text/plain": [
       "Text(0, 0.5, 'Height')"
      ]
     },
     "execution_count": 6,
     "metadata": {},
     "output_type": "execute_result"
    },
    {
     "data": {
      "image/png": "[encoded data removed]",
      "text/plain": [
       "<Figure size 640x480 with 1 Axes>"
      ]
     },
     "metadata": {},
     "output_type": "display_data"
    }
   ],
   "source": [
    "plt.scatter(df.Weight, df.Height)\n",
    "plt.xlabel('Weight')\n",
    "plt.ylabel('Height')"
   ]
  },
  {
   "cell_type": "code",
   "execution_count": 7,
   "id": "ea64f64a-f9dc-42a9-8b78-43a1a2f0b17b",
   "metadata": {},
   "outputs": [],
   "source": [
    "x=df[['Weight']]"
   ]
  },
  {
   "cell_type": "code",
   "execution_count": 8,
   "id": "7056b793-965d-4cc1-aa4a-71b51cefe42a",
   "metadata": {},
   "outputs": [],
   "source": [
    "y=df[['Height']]"
   ]
  },
  {
   "cell_type": "code",
   "execution_count": 9,
   "id": "37c6f799-1cca-4816-b39e-5dc8fb87f637",
   "metadata": {},
   "outputs": [],
   "source": [
    "from sklearn.model_selection import train_test_split"
   ]
  },
  {
   "cell_type": "code",
   "execution_count": 10,
   "id": "9cbcb97e-1a8b-4c87-8024-c529740cb2af",
   "metadata": {},
   "outputs": [],
   "source": [
    "x_train, x_test, y_train, y_test = train_test_split(x, y, test_size=0.2, random_state=42)"
   ]
  },
  {
   "cell_type": "code",
   "execution_count": 11,
   "id": "60636288-6e3c-4728-a89e-0c58fd0f9550",
   "metadata": {},
   "outputs": [
    {
     "data": {
      "text/plain": [
       "(    Weight\n",
       " 12     105\n",
       " 1       58\n",
       " 13     100\n",
       " 5       78\n",
       " 2       48\n",
       " 11      95\n",
       " 20      45\n",
       " 3       60\n",
       " 4       70\n",
       " 18      76\n",
       " 16      50\n",
       " 21      56\n",
       " 22      72\n",
       " 7       90\n",
       " 10      82\n",
       " 14      85\n",
       " 19      87\n",
       " 6       80,\n",
       "     Weight\n",
       " 15      78\n",
       " 9       78\n",
       " 0       45\n",
       " 8       95\n",
       " 17      65,\n",
       "     Height\n",
       " 12     175\n",
       " 1      135\n",
       " 13     183\n",
       " 5      162\n",
       " 2      123\n",
       " 11     182\n",
       " 20     129\n",
       " 3      145\n",
       " 4      160\n",
       " 18     150\n",
       " 16     140\n",
       " 21     140\n",
       " 22     160\n",
       " 7      175\n",
       " 10     176\n",
       " 14     170\n",
       " 19     167\n",
       " 6      163,\n",
       "     Height\n",
       " 15     177\n",
       " 9      170\n",
       " 0      120\n",
       " 8      182\n",
       " 17     159)"
      ]
     },
     "execution_count": 11,
     "metadata": {},
     "output_type": "execute_result"
    }
   ],
   "source": [
    "x_train, x_test, y_train, y_test"
   ]
  },
  {
   "cell_type": "code",
   "execution_count": 12,
   "id": "6f39ece7-0d4a-40cd-9bb7-659d6c5445de",
   "metadata": {},
   "outputs": [],
   "source": [
    "from sklearn.preprocessing import StandardScaler"
   ]
  },
  {
   "cell_type": "code",
   "execution_count": 13,
   "id": "d1bb9f70-a4ff-45d2-8457-917189eccad6",
   "metadata": {},
   "outputs": [],
   "source": [
    "scaler = StandardScaler()"
   ]
  },
  {
   "cell_type": "code",
   "execution_count": 14,
   "id": "ba2cc3f8-0a09-4472-af30-ae38413ae48e",
   "metadata": {},
   "outputs": [],
   "source": [
    "x_train = scaler.fit_transform(x_train)"
   ]
  },
  {
   "cell_type": "code",
   "execution_count": 15,
   "id": "7a846561-d2c6-42de-b1c4-93ca7c37b457",
   "metadata": {},
   "outputs": [],
   "source": [
    "x_test = scaler.transform(x_test)"
   ]
  },
  {
   "cell_type": "code",
   "execution_count": 16,
   "id": "812bae11-a488-48f5-8c18-7de1fecfb49e",
   "metadata": {},
   "outputs": [
    {
     "data": {
      "text/plain": [
       "<matplotlib.collections.PathCollection at 0x7f2b8c2769b0>"
      ]
     },
     "execution_count": 16,
     "metadata": {},
     "output_type": "execute_result"
    },
    {
     "data": {
      "image/png": "[encoded data removed]",
      "text/plain": [
       "<Figure size 640x480 with 1 Axes>"
      ]
     },
     "metadata": {},
     "output_type": "display_data"
    }
   ],
   "source": [
    "plt.scatter(x_train, y_train)"
   ]
  },
  {
   "cell_type": "code",
   "execution_count": 17,
   "id": "808ad941-adac-49fb-9dcc-be598b9748fa",
   "metadata": {},
   "outputs": [],
   "source": [
    "from sklearn.linear_model import LinearRegression"
   ]
  },
  {
   "cell_type": "code",
   "execution_count": 18,
   "id": "83dee2bb-a627-43ee-a14d-917d1e32cf2b",
   "metadata": {},
   "outputs": [],
   "source": [
    "regressor = LinearRegression()"
   ]
  },
  {
   "cell_type": "code",
   "execution_count": 19,
   "id": "a0b79ad5-d794-46df-8f39-6b5938ee43f5",
   "metadata": {},
   "outputs": [
    {
     "data": {
      "text/html": [
       "<style>#sk-container-id-1 {color: black;background-color: white;}#sk-container-id-1 pre{padding: 0;}#sk-container-id-1 div.sk-toggleable {background-color: white;}#sk-container-id-1 label.sk-toggleable__label {cursor: pointer;display: block;width: 100%;margin-bottom: 0;padding: 0.3em;box-sizing: border-box;text-align: center;}#sk-container-id-1 label.sk-toggleable__label-arrow:before {content: \"▸\";float: left;margin-right: 0.25em;color: #696969;}#sk-container-id-1 label.sk-toggleable__label-arrow:hover:before {color: black;}#sk-container-id-1 div.sk-estimator:hover label.sk-toggleable__label-arrow:before {color: black;}#sk-container-id-1 div.sk-toggleable__content {max-height: 0;max-width: 0;overflow: hidden;text-align: left;background-color: #f0f8ff;}#sk-container-id-1 div.sk-toggleable__content pre {margin: 0.2em;color: black;border-radius: 0.25em;background-color: #f0f8ff;}#sk-container-id-1 input.sk-toggleable__control:checked~div.sk-toggleable__content {max-height: 200px;max-width: 100%;overflow: auto;}#sk-container-id-1 input.sk-toggleable__control:checked~label.sk-toggleable__label-arrow:before {content: \"▾\";}#sk-container-id-1 div.sk-estimator input.sk-toggleable__control:checked~label.sk-toggleable__label {background-color: #d4ebff;}#sk-container-id-1 div.sk-label input.sk-toggleable__control:checked~label.sk-toggleable__label {background-color: #d4ebff;}#sk-container-id-1 input.sk-hidden--visually {border: 0;clip: rect(1px 1px 1px 1px);clip: rect(1px, 1px, 1px, 1px);height: 1px;margin: -1px;overflow: hidden;padding: 0;position: absolute;width: 1px;}#sk-container-id-1 div.sk-estimator {font-family: monospace;background-color: #f0f8ff;border: 1px dotted black;border-radius: 0.25em;box-sizing: border-box;margin-bottom: 0.5em;}#sk-container-id-1 div.sk-estimator:hover {background-color: #d4ebff;}#sk-container-id-1 div.sk-parallel-item::after {content: \"\";width: 100%;border-bottom: 1px solid gray;flex-grow: 1;}#sk-container-id-1 div.sk-label:hover label.sk-toggleable__label {background-color: #d4ebff;}#sk-container-id-1 div.sk-serial::before {content: \"\";position: absolute;border-left: 1px solid gray;box-sizing: border-box;top: 0;bottom: 0;left: 50%;z-index: 0;}#sk-container-id-1 div.sk-serial {display: flex;flex-direction: column;align-items: center;background-color: white;padding-right: 0.2em;padding-left: 0.2em;position: relative;}#sk-container-id-1 div.sk-item {position: relative;z-index: 1;}#sk-container-id-1 div.sk-parallel {display: flex;align-items: stretch;justify-content: center;background-color: white;position: relative;}#sk-container-id-1 div.sk-item::before, #sk-container-id-1 div.sk-parallel-item::before {content: \"\";position: absolute;border-left: 1px solid gray;box-sizing: border-box;top: 0;bottom: 0;left: 50%;z-index: -1;}#sk-container-id-1 div.sk-parallel-item {display: flex;flex-direction: column;z-index: 1;position: relative;background-color: white;}#sk-container-id-1 div.sk-parallel-item:first-child::after {align-self: flex-end;width: 50%;}#sk-container-id-1 div.sk-parallel-item:last-child::after {align-self: flex-start;width: 50%;}#sk-container-id-1 div.sk-parallel-item:only-child::after {width: 0;}#sk-container-id-1 div.sk-dashed-wrapped {border: 1px dashed gray;margin: 0 0.4em 0.5em 0.4em;box-sizing: border-box;padding-bottom: 0.4em;background-color: white;}#sk-container-id-1 div.sk-label label {font-family: monospace;font-weight: bold;display: inline-block;line-height: 1.2em;}#sk-container-id-1 div.sk-label-container {text-align: center;}#sk-container-id-1 div.sk-container {/* jupyter's `normalize.less` sets `[hidden] { display: none; }` but bootstrap.min.css set `[hidden] { display: none !important; }` so we also need the `!important` here to be able to override the default hidden behavior on the sphinx rendered scikit-learn.org. See: https://github.com/scikit-learn/scikit-learn/issues/21755 */display: inline-block !important;position: relative;}#sk-container-id-1 div.sk-text-repr-fallback {display: none;}</style><div id=\"sk-container-id-1\" class=\"sk-top-container\"><div class=\"sk-text-repr-fallback\"><pre>LinearRegression()</pre><b>In a Jupyter environment, please rerun this cell to show the HTML representation or trust the notebook. <br />On GitHub, the HTML representation is unable to render, please try loading this page with nbviewer.org.</b></div><div class=\"sk-container\" hidden><div class=\"sk-item\"><div class=\"sk-estimator sk-toggleable\"><input class=\"sk-toggleable__control sk-hidden--visually\" id=\"sk-estimator-id-1\" type=\"checkbox\" checked><label for=\"sk-estimator-id-1\" class=\"sk-toggleable__label sk-toggleable__label-arrow\">LinearRegression</label><div class=\"sk-toggleable__content\"><pre>LinearRegression()</pre></div></div></div></div></div>"
      ],
      "text/plain": [
       "LinearRegression()"
      ]
     },
     "execution_count": 19,
     "metadata": {},
     "output_type": "execute_result"
    }
   ],
   "source": [
    "regressor.fit(x_train, y_train)"
   ]
  },
  {
   "cell_type": "code",
   "execution_count": 20,
   "id": "f63c0387-f34e-4181-939b-33f24f6950e1",
   "metadata": {},
   "outputs": [
    {
     "data": {
      "text/plain": [
       "array([[17.03440872]])"
      ]
     },
     "execution_count": 20,
     "metadata": {},
     "output_type": "execute_result"
    }
   ],
   "source": [
    "regressor.coef_"
   ]
  },
  {
   "cell_type": "code",
   "execution_count": 21,
   "id": "f6d98935-473a-4d17-8f4f-24257b9a78d7",
   "metadata": {},
   "outputs": [
    {
     "data": {
      "text/plain": [
       "array([157.5])"
      ]
     },
     "execution_count": 21,
     "metadata": {},
     "output_type": "execute_result"
    }
   ],
   "source": [
    "regressor.intercept_"
   ]
  },
  {
   "cell_type": "code",
   "execution_count": 22,
   "id": "74ac8d66-0e6d-4df7-bc18-0bcbed062906",
   "metadata": {},
   "outputs": [
    {
     "data": {
      "text/plain": [
       "[<matplotlib.lines.Line2D at 0x7f2b8ba6f2e0>]"
      ]
     },
     "execution_count": 22,
     "metadata": {},
     "output_type": "execute_result"
    },
    {
     "data": {
      "image/png": "[encoded data removed]",
      "text/plain": [
       "<Figure size 640x480 with 1 Axes>"
      ]
     },
     "metadata": {},
     "output_type": "display_data"
    }
   ],
   "source": [
    "plt.scatter(x_train, y_train)\n",
    "plt.plot(x_train, regressor.predict(x_train), 'g')"
   ]
  },
  {
   "cell_type": "code",
   "execution_count": 23,
   "id": "91ea2248-b982-4f11-8fc4-4ea6d6913868",
   "metadata": {},
   "outputs": [],
   "source": [
    "y_pred_test = regressor.predict(x_test)"
   ]
  },
  {
   "cell_type": "code",
   "execution_count": 24,
   "id": "6250dc3e-b8cd-4bf4-8fa7-cbfa940b7051",
   "metadata": {},
   "outputs": [
    {
     "data": {
      "text/plain": [
       "(array([[161.08467086],\n",
       "        [161.08467086],\n",
       "        [129.3041561 ],\n",
       "        [177.45645118],\n",
       "        [148.56507414]]),\n",
       "     Height\n",
       " 15     177\n",
       " 9      170\n",
       " 0      120\n",
       " 8      182\n",
       " 17     159)"
      ]
     },
     "execution_count": 24,
     "metadata": {},
     "output_type": "execute_result"
    }
   ],
   "source": [
    "y_pred_test, y_test"
   ]
  },
  {
   "cell_type": "code",
   "execution_count": 25,
   "id": "ffbda3c8-ab2b-400a-8677-e010b2c523e1",
   "metadata": {},
   "outputs": [],
   "source": [
    "from sklearn.metrics import mean_squared_error, mean_absolute_error"
   ]
  },
  {
   "cell_type": "code",
   "execution_count": 26,
   "id": "e0a04a92-bea3-4522-bb5d-3365f32939f3",
   "metadata": {},
   "outputs": [],
   "source": [
    "mse = mean_squared_error(y_test, y_pred_test)\n",
    "mae = mean_absolute_error(y_test, y_pred_test)\n",
    "rmse = np.sqrt(mse)"
   ]
  },
  {
   "cell_type": "code",
   "execution_count": 27,
   "id": "27231e5f-9306-48bd-b97a-bf755e51de46",
   "metadata": {},
   "outputs": [
    {
     "data": {
      "text/plain": [
       "(109.77592599051664, 9.822657814519232, 10.477400726827081)"
      ]
     },
     "execution_count": 27,
     "metadata": {},
     "output_type": "execute_result"
    }
   ],
   "source": [
    "mse, mae, rmse"
   ]
  },
  {
   "cell_type": "code",
   "execution_count": 28,
   "id": "40838f16-48b4-4876-a4e9-87db349f8cb2",
   "metadata": {},
   "outputs": [],
   "source": [
    "from sklearn.metrics import r2_score"
   ]
  },
  {
   "cell_type": "code",
   "execution_count": 29,
   "id": "3612fac9-97e4-4b56-a9a7-d146bde32630",
   "metadata": {},
   "outputs": [],
   "source": [
    "r_score = r2_score(y_test, y_pred_test)"
   ]
  },
  {
   "cell_type": "code",
   "execution_count": 30,
   "id": "362109fa-1aa8-4818-b989-6ece56ddf8d2",
   "metadata": {},
   "outputs": [
    {
     "data": {
      "text/plain": [
       "0.776986986042344"
      ]
     },
     "execution_count": 30,
     "metadata": {},
     "output_type": "execute_result"
    }
   ],
   "source": [
    "r_score"
   ]
  },
  {
   "cell_type": "code",
   "execution_count": 31,
   "id": "c8168437-d298-4374-9664-21fceee2435c",
   "metadata": {},
   "outputs": [],
   "source": [
    "adj_r_score = 1 - ((1-r_score)*(len(df)-1))/(len(df)-df.shape[1]-2)"
   ]
  },
  {
   "cell_type": "code",
   "execution_count": 32,
   "id": "f643d287-a619-468a-86ce-30d455944f36",
   "metadata": {},
   "outputs": [
    {
     "data": {
      "text/plain": [
       "1"
      ]
     },
     "execution_count": 32,
     "metadata": {},
     "output_type": "execute_result"
    }
   ],
   "source": [
    "df.shape[1]-1"
   ]
  },
  {
   "cell_type": "code",
   "execution_count": 33,
   "id": "b7931183-7d62-4998-a517-7f2906c99f6f",
   "metadata": {},
   "outputs": [
    {
     "data": {
      "text/plain": [
       "23"
      ]
     },
     "execution_count": 33,
     "metadata": {},
     "output_type": "execute_result"
    }
   ],
   "source": [
    "len(df)"
   ]
  },
  {
   "cell_type": "code",
   "execution_count": 34,
   "id": "c2bbbfd6-a231-4476-a309-6d1a73fe67ff",
   "metadata": {},
   "outputs": [
    {
     "data": {
      "text/plain": [
       "0.7417744048911351"
      ]
     },
     "execution_count": 34,
     "metadata": {},
     "output_type": "execute_result"
    }
   ],
   "source": [
    "adj_r_score"
   ]
  },
  {
   "cell_type": "code",
   "execution_count": 35,
   "id": "ba4d9264-8ec2-46a0-abde-49f40cd74ee5",
   "metadata": {},
   "outputs": [],
   "source": [
    "new_weight= 88"
   ]
  },
  {
   "cell_type": "code",
   "execution_count": 36,
   "id": "aaf95b69-8336-4d06-a1eb-7e170cfe36c0",
   "metadata": {},
   "outputs": [
    {
     "name": "stderr",
     "output_type": "stream",
     "text": [
      "/opt/conda/lib/python3.10/site-packages/sklearn/base.py:409: UserWarning: X does not have valid feature names, but StandardScaler was fitted with feature names\n",
      "  warnings.warn(\n"
     ]
    }
   ],
   "source": [
    "scaled_weight=scaler.transform([[88]])"
   ]
  },
  {
   "cell_type": "code",
   "execution_count": 37,
   "id": "de1ee03a-110b-4572-9df3-e823305e7e0c",
   "metadata": {},
   "outputs": [
    {
     "data": {
      "text/plain": [
       "array([[0.77579035]])"
      ]
     },
     "execution_count": 37,
     "metadata": {},
     "output_type": "execute_result"
    }
   ],
   "source": [
    "scaled_weight"
   ]
  },
  {
   "cell_type": "code",
   "execution_count": 38,
   "id": "ad12527a-88bb-4c31-99ef-e155704860e4",
   "metadata": {},
   "outputs": [],
   "source": [
    "predicted_height = regressor.predict(scaled_weight)"
   ]
  },
  {
   "cell_type": "code",
   "execution_count": 39,
   "id": "000657a1-d903-4578-a5f4-507fba5783e3",
   "metadata": {},
   "outputs": [
    {
     "data": {
      "text/plain": [
       "array([[170.71512987]])"
      ]
     },
     "execution_count": 39,
     "metadata": {},
     "output_type": "execute_result"
    }
   ],
   "source": [
    "predicted_height"
   ]
  },
  {
   "cell_type": "code",
   "execution_count": 41,
   "id": "a5d1164c-3958-4bb0-8964-971c8fa09ea0",
   "metadata": {},
   "outputs": [],
   "source": [
    "## To check how good the model is-\n",
    "## 1. The scatter plot of y-test and y-predicted must have a linear relationship\n",
    "## 2. The error (y-test - y-predicted) must have a normal distribution"
   ]
  },
  {
   "cell_type": "code",
   "execution_count": 42,
   "id": "8f454b7a-b2bf-4574-a0c6-c4c6886e2982",
   "metadata": {},
   "outputs": [
    {
     "data": {
      "text/plain": [
       "<matplotlib.collections.PathCollection at 0x7f2b8b856d10>"
      ]
     },
     "execution_count": 42,
     "metadata": {},
     "output_type": "execute_result"
    },
    {
     "data": {
      "image/png": "[encoded data removed]",
      "text/plain": [
       "<Figure size 640x480 with 1 Axes>"
      ]
     },
     "metadata": {},
     "output_type": "display_data"
    }
   ],
   "source": [
    "plt.scatter(y_test, y_pred_test)"
   ]
  },
  {
   "cell_type": "code",
   "execution_count": 43,
   "id": "01a37b2e-5dae-416f-b0c8-b57e0101b176",
   "metadata": {},
   "outputs": [],
   "source": [
    "error = y_test - y_pred_test"
   ]
  },
  {
   "cell_type": "code",
   "execution_count": 44,
   "id": "7af0c46b-ebd8-405b-995a-51d338d58aae",
   "metadata": {},
   "outputs": [],
   "source": [
    "import seaborn as sns"
   ]
  },
  {
   "cell_type": "code",
   "execution_count": 46,
   "id": "03a7f346-1da5-40a1-b6c4-7a37a0d74352",
   "metadata": {},
   "outputs": [
    {
     "name": "stderr",
     "output_type": "stream",
     "text": [
      "/tmp/ipykernel_95/3497407678.py:1: UserWarning: \n",
      "\n",
      "`distplot` is a deprecated function and will be removed in seaborn v0.14.0.\n",
      "\n",
      "Please adapt your code to use either `displot` (a figure-level function with\n",
      "similar flexibility) or `histplot` (an axes-level function for histograms).\n",
      "\n",
      "For a guide to updating your code to use the new functions, please see\n",
      "https://gist.github.com/mwaskom/de44147ed2974457ad6372750bbe5751\n",
      "\n",
      "  sns.distplot(error, kde=True)\n"
     ]
    },
    {
     "data": {
      "text/plain": [
       "<AxesSubplot: ylabel='Density'>"
      ]
     },
     "execution_count": 46,
     "metadata": {},
     "output_type": "execute_result"
    },
    {
     "data": {
      "image/png": "[encoded data removed]",
      "text/plain": [
       "<Figure size 640x480 with 1 Axes>"
      ]
     },
     "metadata": {},
     "output_type": "display_data"
    }
   ],
   "source": [
    "sns.distplot(error, kde=True)"
   ]
  },
  {
   "cell_type": "code",
   "execution_count": null,
   "id": "b9f1726d-f591-425b-9bac-27b285864e3e",
   "metadata": {},
   "outputs": [],
   "source": []
  }
 ],
 "metadata": {
  "kernelspec": {
   "display_name": "Python 3 (ipykernel)",
   "language": "python",
   "name": "python3"
  },
  "language_info": {
   "codemirror_mode": {
    "name": "ipython",
    "version": 3
   },
   "file_extension": ".py",
   "mimetype": "text/x-python",
   "name": "python",
   "nbconvert_exporter": "python",
   "pygments_lexer": "ipython3",
   "version": "3.10.8"
  }
 },
 "nbformat": 4,
 "nbformat_minor": 5
}
