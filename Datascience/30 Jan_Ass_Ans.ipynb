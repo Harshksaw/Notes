{
 "cells": [
  {
   "cell_type": "markdown",
   "id": "22eb2ef0",
   "metadata": {},
   "source": [
    "# 1. write a program to accept percentage from user and display the grade "
   ]
  },
  {
   "cell_type": "code",
   "execution_count": 2,
   "id": "0c17e175",
   "metadata": {},
   "outputs": [
    {
     "name": "stdout",
     "output_type": "stream",
     "text": [
      "Enter the percentage:62\n",
      "Grade C\n"
     ]
    }
   ],
   "source": [
    "\n",
    "percent = int(input(\"Enter the percentage:\"))\n",
    "\n",
    "if percent <= 100 and percent > 90:\n",
    "    print(\"Grade A\")\n",
    "    \n",
    "elif percent > 80:\n",
    "    print(\"Grade B\")\n",
    "    \n",
    "elif percent >= 60 :\n",
    "    print(\"Grade C\")\n",
    "    \n",
    "else:\n",
    "    print(\"Grade D\")\n",
    "    \n",
    "    "
   ]
  },
  {
   "cell_type": "markdown",
   "id": "9caa158a",
   "metadata": {},
   "source": [
    "# 2. write a program to accept the cost price of bike and display the road tax to be paid  \n"
   ]
  },
  {
   "cell_type": "code",
   "execution_count": 3,
   "id": "251e6036",
   "metadata": {},
   "outputs": [
    {
     "name": "stdout",
     "output_type": "stream",
     "text": [
      "Enter Bike price:5500\n",
      "Your road tax is 275.0\n"
     ]
    }
   ],
   "source": [
    "bike_price=int(input(\"Enter Bike price:\"))\n",
    "\n",
    "if bike_price > 100000:\n",
    "    tax=(15 / 100) * bike_price\n",
    "    \n",
    "elif bike_price > 50000:\n",
    "    tax=(10 / 100) * bike_price\n",
    "    \n",
    "else:\n",
    "    tax=(5 / 100) * bike_price\n",
    "    \n",
    "print(f\"Your road tax is {tax}\")\n",
    "    "
   ]
  },
  {
   "cell_type": "markdown",
   "id": "4cd4b978",
   "metadata": {},
   "source": [
    "# 3. Accept any city from the user and display monuments of that city \n"
   ]
  },
  {
   "cell_type": "code",
   "execution_count": 6,
   "id": "6b7c200f",
   "metadata": {},
   "outputs": [
    {
     "name": "stdout",
     "output_type": "stream",
     "text": [
      "Enter your city name:agra\n",
      "Taj Mahal\n"
     ]
    }
   ],
   "source": [
    "city = input(\"Enter your city name:\").capitalize()\n",
    "\n",
    "if city == \"Delhi\":\n",
    "    print(\"Red Fort\")\n",
    "    \n",
    "elif city == \"Agra\":\n",
    "    print(\"Taj Mahal\")\n",
    "    \n",
    "elif city == \"Jaipur\":\n",
    "    print(\"Jal Mahal\")\n",
    "    \n",
    "else:\n",
    "    print(\"Sorry, your city is not in our list\")\n",
    "    \n",
    "    "
   ]
  },
  {
   "cell_type": "markdown",
   "id": "40235ae7",
   "metadata": {},
   "source": [
    "# 4. check how many times a given number can be divided by 3 before it is less than or equal to 10\n"
   ]
  },
  {
   "cell_type": "code",
   "execution_count": 9,
   "id": "d57bfb2a",
   "metadata": {},
   "outputs": [
    {
     "name": "stdout",
     "output_type": "stream",
     "text": [
      "Enter a number:12\n",
      "The count is: 1\n"
     ]
    }
   ],
   "source": [
    "number=int(input(\"Enter a number:\"))\n",
    "count=0\n",
    "\n",
    "while number > 10 :\n",
    "    number //= 3\n",
    "    count = count+1\n",
    "    \n",
    "print(\"The count is:\",count)    \n",
    "    "
   ]
  },
  {
   "cell_type": "markdown",
   "id": "4ede393a",
   "metadata": {},
   "source": [
    "# 5. why and when to use while loop in python give a detailed description with example,\n"
   ]
  },
  {
   "cell_type": "markdown",
   "id": "7371f165",
   "metadata": {},
   "source": [
    "Ans: You should use a while loop when you need to repeatedly execute a block of code as long as a certain condition is true. A while loop is useful when you do not know beforehand how many times you need to iterate, or when the number of iterations depends on some changing conditions.\n"
   ]
  },
  {
   "cell_type": "code",
   "execution_count": 11,
   "id": "76bb0322",
   "metadata": {},
   "outputs": [
    {
     "name": "stdout",
     "output_type": "stream",
     "text": [
      "0 1 2 3 4 "
     ]
    }
   ],
   "source": [
    "count = 0\n",
    "while count < 5:\n",
    "    print(count,end = \" \")\n",
    "    count += 1"
   ]
  },
  {
   "cell_type": "markdown",
   "id": "f53613b7",
   "metadata": {},
   "source": [
    "# 6. use nested while loop to print 3 different pattern."
   ]
  },
  {
   "cell_type": "code",
   "execution_count": 13,
   "id": "22d23a77",
   "metadata": {},
   "outputs": [
    {
     "name": "stdout",
     "output_type": "stream",
     "text": [
      "Enter numbers of rows:5\n",
      "* \n",
      "* * \n",
      "* * * \n",
      "* * * * \n",
      "* * * * * \n"
     ]
    }
   ],
   "source": [
    "# Pattern1\n",
    "\n",
    "n = int(input(\"Enter numbers of rows:\"))\n",
    "i=1\n",
    "while i<=n:\n",
    "    j=1\n",
    "    while j<=i:\n",
    "        print(\"*\",end=\" \")\n",
    "        j=j+1\n",
    "    print()\n",
    "    i=i+1\n",
    "    \n",
    "\n",
    "    \n",
    "\n"
   ]
  },
  {
   "cell_type": "code",
   "execution_count": 14,
   "id": "bff2c28c",
   "metadata": {},
   "outputs": [
    {
     "name": "stdout",
     "output_type": "stream",
     "text": [
      "Enter numbers of rows:5\n",
      "* * * * * \n",
      "* * * * \n",
      "* * * \n",
      "* * \n",
      "* \n"
     ]
    }
   ],
   "source": [
    "# pattern-2\n",
    "\n",
    "n = int(input(\"Enter numbers of rows:\"))\n",
    "i=1\n",
    "while i<=n:\n",
    "    j=n\n",
    "    while j>=i:\n",
    "        print(\"*\",end=\" \")\n",
    "        j=j-1\n",
    "    print()\n",
    "    i=i+1\n",
    "\n"
   ]
  },
  {
   "cell_type": "code",
   "execution_count": 15,
   "id": "16aead78",
   "metadata": {},
   "outputs": [
    {
     "name": "stdout",
     "output_type": "stream",
     "text": [
      "Enter numbers of rows:5\n",
      "1 \n",
      "2 3 \n",
      "4 5 6 \n",
      "7 8 9 10 \n",
      "11 12 13 14 15 \n"
     ]
    }
   ],
   "source": [
    "# pattern-3\n",
    "\n",
    "n = int(input(\"Enter numbers of rows:\"))\n",
    "i=1\n",
    "k=1\n",
    "while i<=n:\n",
    "    j=1\n",
    "    while j<=i:\n",
    "        print(k,end=\" \")\n",
    "        j=j+1\n",
    "        k=k+1\n",
    "    print()\n",
    "    i=i+1"
   ]
  },
  {
   "cell_type": "markdown",
   "id": "3fdd8eb9",
   "metadata": {},
   "source": [
    "# 7.Reverse a while loop to display a number from 10 to 1. \n"
   ]
  },
  {
   "cell_type": "code",
   "execution_count": 17,
   "id": "6a353ece",
   "metadata": {},
   "outputs": [
    {
     "name": "stdout",
     "output_type": "stream",
     "text": [
      "10 9 8 7 6 5 4 3 2 1 "
     ]
    }
   ],
   "source": [
    "n = 10\n",
    "while( n > 0):\n",
    "    print(n, end=\" \")\n",
    "    n = n-1"
   ]
  },
  {
   "cell_type": "code",
   "execution_count": null,
   "id": "1042c28d",
   "metadata": {},
   "outputs": [],
   "source": []
  }
 ],
 "metadata": {
  "kernelspec": {
   "display_name": "Python 3 (ipykernel)",
   "language": "python",
   "name": "python3"
  },
  "language_info": {
   "codemirror_mode": {
    "name": "ipython",
    "version": 3
   },
   "file_extension": ".py",
   "mimetype": "text/x-python",
   "name": "python",
   "nbconvert_exporter": "python",
   "pygments_lexer": "ipython3",
   "version": "3.10.1"
  }
 },
 "nbformat": 4,
 "nbformat_minor": 5
}
